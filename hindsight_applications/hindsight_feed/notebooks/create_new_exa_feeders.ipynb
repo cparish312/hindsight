{
 "cells": [
  {
   "cell_type": "code",
   "execution_count": 1,
   "metadata": {},
   "outputs": [
    {
     "name": "stderr",
     "output_type": "stream",
     "text": [
      "/Users/connorparish/miniconda3/envs/hindsight_server/lib/python3.10/site-packages/tqdm/auto.py:21: TqdmWarning: IProgress not found. Please update jupyter and ipywidgets. See https://ipywidgets.readthedocs.io/en/stable/user_install.html\n",
      "  from .autonotebook import tqdm as notebook_tqdm\n"
     ]
    }
   ],
   "source": [
    "import re\n",
    "import html\n",
    "import unicodedata\n",
    "import time\n",
    "\n",
    "import pandas as pd\n",
    "\n",
    "from datetime import datetime\n",
    "\n",
    "import sys\n",
    "sys.path.insert(0, \"../\")\n",
    "sys.path.insert(0, \"../../../\")\n",
    "\n",
    "from hindsight_feed_db import fetch_content_generators, fetch_contents\n",
    "from feed_generator import FeedGenerator\n",
    "from feeders.exa_topic.exa_topic import ExaTopicFeeder"
   ]
  },
  {
   "cell_type": "code",
   "execution_count": 8,
   "metadata": {},
   "outputs": [],
   "source": [
    "content_generators = fetch_content_generators()"
   ]
  },
  {
   "cell_type": "code",
   "execution_count": 11,
   "metadata": {},
   "outputs": [
    {
     "data": {
      "text/plain": [
       "154"
      ]
     },
     "execution_count": 11,
     "metadata": {},
     "output_type": "execute_result"
    }
   ],
   "source": [
    "content_generators[-1].id"
   ]
  },
  {
   "cell_type": "markdown",
   "metadata": {},
   "source": [
    "# Manual entry"
   ]
  },
  {
   "cell_type": "code",
   "execution_count": 2,
   "metadata": {},
   "outputs": [],
   "source": [
    "feed_generator = FeedGenerator(content_generators=None)"
   ]
  },
  {
   "cell_type": "code",
   "execution_count": 5,
   "metadata": {},
   "outputs": [
    {
     "name": "stdout",
     "output_type": "stream",
     "text": [
      "exa_topic_Machine_Learning_VLMS fetching content\n",
      "Ingesting 21 new content\n",
      "Batch 0\n",
      "Successfully added 21 documents to chromadb\n"
     ]
    }
   ],
   "source": [
    "topics = [\"Machine Learning VLMS\"]\n",
    "for topic in topics:\n",
    "    cg = ExaTopicFeeder(name=f\"\"\"exa_topic_{topic.replace(\" \", \"_\")}\"\"\", \n",
    "                                                            description=f\"ExaTopicFeeder generated using topic {topic}\",\n",
    "                                                            topic=topic, parent_generator_id=None, exclude_seen_urls=True)\n",
    "    feed_generator.add_content_generator(cg)"
   ]
  },
  {
   "cell_type": "code",
   "execution_count": 18,
   "metadata": {},
   "outputs": [],
   "source": [
    "cg.add_content()"
   ]
  },
  {
   "cell_type": "code",
   "execution_count": 11,
   "metadata": {},
   "outputs": [
    {
     "name": "stdout",
     "output_type": "stream",
     "text": [
      "exa_find_similar_https://uber.la fetching content\n",
      "Failed request for http://uber.tv/\n",
      "Failed request for https://www.makeit.la/name/pixel.la\n",
      "Failed request for https://cybernews.tv/\n",
      "Failed request for https://www.makeit.la/name/Analog.LA\n",
      "Failed request for https://www.makeit.la/name/Rave.la\n",
      "Failed request for https://www.hot-domains.com/name/HighTech.tv\n",
      "Failed request for https://watchourcity.com/\n",
      "Failed request for https://thelosangeleswire.com/\n",
      "Failed request for https://de-wired.com/\n"
     ]
    }
   ],
   "source": [
    "find_similar_urls = [\"https://uber.la\"]\n",
    "for find_similar_url in find_similar_urls:\n",
    "    feed_generator.add_content_generator(ExaTopicFeeder(name=f\"\"\"exa_find_similar_{find_similar_url}\"\"\", \n",
    "                                                                description=f\"ExaTopicFeeder generated using topic {find_similar_url}\",\n",
    "                                                                topic=find_similar_url, parent_generator_id=None, find_similar=True))"
   ]
  },
  {
   "cell_type": "code",
   "execution_count": 4,
   "metadata": {},
   "outputs": [
    {
     "name": "stdout",
     "output_type": "stream",
     "text": [
      "Attempting to generate 4 new topics by topic modeling\n"
     ]
    },
    {
     "name": "stderr",
     "output_type": "stream",
     "text": [
      "OMP: Info #276: omp_set_nested routine deprecated, please use omp_set_max_active_levels instead.\n",
      "Fetching 9 files: 100%|██████████| 9/9 [00:00<00:00, 161319.38it/s]\n"
     ]
    },
    {
     "name": "stdout",
     "output_type": "stream",
     "text": [
      "Creating new topic from 0_ai_memory_personal_recall with 10 articles.\n",
      "Creating new topic from 15_media_awards_ceo_news with 10 articles.\n",
      "Creating new topic from 6_consciousness_ai_sentience_conscious with 10 articles.\n",
      "Creating new topic from 1_privacy_facebook_social_security with 10 articles.\n",
      "Successfully added New content for 4 topics\n",
      "Attempting to generate 1 new topics by random viewed sampling\n"
     ]
    },
    {
     "name": "stderr",
     "output_type": "stream",
     "text": [
      "Fetching 9 files: 100%|██████████| 9/9 [00:00<00:00, 22062.38it/s]\n"
     ]
    },
    {
     "name": "stdout",
     "output_type": "stream",
     "text": [
      "exa_autogen_rand____' fetching content\n"
     ]
    }
   ],
   "source": [
    "feed_generator.generate_content()"
   ]
  },
  {
   "cell_type": "code",
   "execution_count": null,
   "metadata": {},
   "outputs": [],
   "source": []
  }
 ],
 "metadata": {
  "kernelspec": {
   "display_name": "hindsight_server",
   "language": "python",
   "name": "python3"
  },
  "language_info": {
   "codemirror_mode": {
    "name": "ipython",
    "version": 3
   },
   "file_extension": ".py",
   "mimetype": "text/x-python",
   "name": "python",
   "nbconvert_exporter": "python",
   "pygments_lexer": "ipython3",
   "version": "3.10.14"
  }
 },
 "nbformat": 4,
 "nbformat_minor": 2
}
