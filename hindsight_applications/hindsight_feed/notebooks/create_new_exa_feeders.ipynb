{
 "cells": [
  {
   "cell_type": "code",
   "execution_count": 1,
   "metadata": {},
   "outputs": [
    {
     "name": "stderr",
     "output_type": "stream",
     "text": [
      "/Users/connorparish/miniconda3/envs/hindsight_server/lib/python3.10/site-packages/tqdm/auto.py:21: TqdmWarning: IProgress not found. Please update jupyter and ipywidgets. See https://ipywidgets.readthedocs.io/en/stable/user_install.html\n",
      "  from .autonotebook import tqdm as notebook_tqdm\n"
     ]
    }
   ],
   "source": [
    "import re\n",
    "import html\n",
    "import unicodedata\n",
    "import time\n",
    "\n",
    "import pandas as pd\n",
    "\n",
    "from datetime import datetime\n",
    "\n",
    "import sys\n",
    "sys.path.insert(0, \"../\")\n",
    "sys.path.insert(0, \"../../../\")\n",
    "\n",
    "from hindsight_feed_db import fetch_content_generators, fetch_contents\n",
    "from feed_generator import FeedGenerator\n",
    "from feeders.exa_topic.exa_topic import ExaTopicFeeder"
   ]
  },
  {
   "cell_type": "markdown",
   "metadata": {},
   "source": [
    "# Manual entry"
   ]
  },
  {
   "cell_type": "code",
   "execution_count": 2,
   "metadata": {},
   "outputs": [],
   "source": [
    "feed_generator = FeedGenerator(content_generators=None)"
   ]
  },
  {
   "cell_type": "code",
   "execution_count": 3,
   "metadata": {},
   "outputs": [
    {
     "name": "stdout",
     "output_type": "stream",
     "text": [
      "exa_topic_Power_to_the_sheeple fetching content\n",
      "Failed request for https://worldtruth.tv/are-you-a-sheeple-take-the-sheeple-quiz-and-find-out/\n",
      "Failed request for https://www.bigbrotherwatchingus.com/the-program.html\n"
     ]
    }
   ],
   "source": [
    "topics = [\"Power to the sheeple\"]\n",
    "for topic in topics:\n",
    "    feed_generator.add_content_generator(ExaTopicFeeder(name=f\"\"\"exa_topic_{topic.replace(\" \", \"_\")}\"\"\", \n",
    "                                                            description=f\"ExaTopicFeeder generated using topic {topic}\",\n",
    "                                                            topic=topic, parent_generator_id=None))"
   ]
  },
  {
   "cell_type": "code",
   "execution_count": 11,
   "metadata": {},
   "outputs": [
    {
     "name": "stdout",
     "output_type": "stream",
     "text": [
      "exa_find_similar_https://uber.la fetching content\n",
      "Failed request for http://uber.tv/\n",
      "Failed request for https://www.makeit.la/name/pixel.la\n",
      "Failed request for https://cybernews.tv/\n",
      "Failed request for https://www.makeit.la/name/Analog.LA\n",
      "Failed request for https://www.makeit.la/name/Rave.la\n",
      "Failed request for https://www.hot-domains.com/name/HighTech.tv\n",
      "Failed request for https://watchourcity.com/\n",
      "Failed request for https://thelosangeleswire.com/\n",
      "Failed request for https://de-wired.com/\n"
     ]
    }
   ],
   "source": [
    "find_similar_urls = [\"https://uber.la\"]\n",
    "for find_similar_url in find_similar_urls:\n",
    "    feed_generator.add_content_generator(ExaTopicFeeder(name=f\"\"\"exa_find_similar_{find_similar_url}\"\"\", \n",
    "                                                                description=f\"ExaTopicFeeder generated using topic {find_similar_url}\",\n",
    "                                                                topic=find_similar_url, parent_generator_id=None, find_similar=True))"
   ]
  },
  {
   "cell_type": "code",
   "execution_count": 3,
   "metadata": {},
   "outputs": [],
   "source": [
    "# feed_generator.generate_content()"
   ]
  },
  {
   "cell_type": "code",
   "execution_count": null,
   "metadata": {},
   "outputs": [],
   "source": []
  }
 ],
 "metadata": {
  "kernelspec": {
   "display_name": "hindsight_exp",
   "language": "python",
   "name": "python3"
  },
  "language_info": {
   "codemirror_mode": {
    "name": "ipython",
    "version": 3
   },
   "file_extension": ".py",
   "mimetype": "text/x-python",
   "name": "python",
   "nbconvert_exporter": "python",
   "pygments_lexer": "ipython3",
   "version": "3.10.14"
  }
 },
 "nbformat": 4,
 "nbformat_minor": 2
}
