{
 "cells": [
  {
   "cell_type": "code",
   "execution_count": null,
   "metadata": {},
   "outputs": [],
   "source": [
    "import re\n",
    "import html\n",
    "import unicodedata\n",
    "import time\n",
    "\n",
    "import pandas as pd\n",
    "\n",
    "from datetime import datetime\n",
    "\n",
    "import sys\n",
    "sys.path.insert(0, \"../\")\n",
    "sys.path.insert(0, \"../../../\")\n",
    "\n",
    "from hindsight_feed_db import fetch_content_generators, fetch_contents\n",
    "from feed_generator import FeedGenerator\n",
    "from feeders.exa_topic.exa_topic import ExaTopicFeeder"
   ]
  },
  {
   "cell_type": "markdown",
   "metadata": {},
   "source": [
    "# Manual entry"
   ]
  },
  {
   "cell_type": "code",
   "execution_count": null,
   "metadata": {},
   "outputs": [],
   "source": [
    "feed_generator = FeedGenerator(content_generators=None)"
   ]
  },
  {
   "cell_type": "code",
   "execution_count": null,
   "metadata": {},
   "outputs": [],
   "source": [
    "topics = [\"Machine Learning VLMS\"]\n",
    "for topic in topics:\n",
    "    cg = ExaTopicFeeder(name=f\"\"\"exa_topic_{topic.replace(\" \", \"_\")}\"\"\", \n",
    "                                                            description=f\"ExaTopicFeeder generated using topic {topic}\",\n",
    "                                                            topic=topic, parent_generator_id=None, exclude_seen_urls=True)\n",
    "    feed_generator.add_content_generator(cg)"
   ]
  },
  {
   "cell_type": "code",
   "execution_count": null,
   "metadata": {},
   "outputs": [],
   "source": [
    "cg.add_content()"
   ]
  },
  {
   "cell_type": "code",
   "execution_count": null,
   "metadata": {},
   "outputs": [],
   "source": [
    "find_similar_urls = [\"https://uber.la\"]\n",
    "for find_similar_url in find_similar_urls:\n",
    "    feed_generator.add_content_generator(ExaTopicFeeder(name=f\"\"\"exa_find_similar_{find_similar_url}\"\"\", \n",
    "                                                                description=f\"ExaTopicFeeder generated using topic {find_similar_url}\",\n",
    "                                                                topic=find_similar_url, parent_generator_id=None, find_similar=True))"
   ]
  },
  {
   "cell_type": "code",
   "execution_count": null,
   "metadata": {},
   "outputs": [],
   "source": [
    "# feed_generator.generate_content()"
   ]
  },
  {
   "cell_type": "code",
   "execution_count": null,
   "metadata": {},
   "outputs": [],
   "source": []
  }
 ],
 "metadata": {
  "kernelspec": {
   "display_name": "hindsight_server",
   "language": "python",
   "name": "python3"
  },
  "language_info": {
   "codemirror_mode": {
    "name": "ipython",
    "version": 3
   },
   "file_extension": ".py",
   "mimetype": "text/x-python",
   "name": "python",
   "nbconvert_exporter": "python",
   "pygments_lexer": "ipython3",
   "version": "3.10.14"
  }
 },
 "nbformat": 4,
 "nbformat_minor": 2
}
