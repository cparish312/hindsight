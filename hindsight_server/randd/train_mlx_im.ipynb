{
 "cells": [
  {
   "cell_type": "code",
   "execution_count": 4,
   "metadata": {},
   "outputs": [],
   "source": [
    "import os\n",
    "import shutil\n",
    "import mlx.core as mx\n",
    "import mlx.nn as nn\n",
    "import mlx.optimizers as optim\n",
    "from mlxim.model import create_model\n",
    "from mlxim.data import LabelFolderDataset, DataLoader\n",
    "from mlxim.trainer.trainer import Trainer\n",
    "from mlxim.model._utils import load_weights\n",
    "from mlxim.io.image import read_rgb\n",
    "\n",
    "import sys\n",
    "sys.path.insert(0, \"../\")\n",
    "import utils"
   ]
  },
  {
   "cell_type": "code",
   "execution_count": 61,
   "metadata": {},
   "outputs": [
    {
     "name": "stdout",
     "output_type": "stream",
     "text": [
      "Available models:\n",
      "\t- resnet18\n",
      "\t- resnet34\n",
      "\t- resnet50\n",
      "\t- resnet101\n",
      "\t- resnet152\n",
      "\t- wide_resnet50_2\n",
      "\t- wide_resnet101_2\n",
      "\t- vit_base_patch16_224\n",
      "\t- vit_base_patch16_224.swag_lin\n",
      "\t- vit_base_patch16_224.dino\n",
      "\t- vit_base_patch32_224\n",
      "\t- vit_base_patch16_384.swag_e2e\n",
      "\t- vit_large_patch16_224\n",
      "\t- vit_large_patch16_224.swag_lin\n",
      "\t- vit_large_patch16_512.swag_e2e\n",
      "\t- vit_huge_patch14_224.swag_lin\n",
      "\t- vit_huge_patch14_518.swag_e2e\n",
      "\t- vit_small_patch14_518.dinov2\n",
      "\t- vit_base_patch14_518.dinov2\n",
      "\t- vit_large_patch14_518.dinov2\n",
      "\t- vit_small_patch16_224.dino\n",
      "\t- vit_small_patch8_224.dino\n",
      "\t- vit_base_patch8_224.dino\n",
      "\t- swin_tiny_patch4_window7_224\n",
      "\t- swin_small_patch4_window7_224\n",
      "\t- swin_base_patch4_window7_224\n",
      "\t- swin_v2_tiny_patch4_window8_256\n",
      "\t- swin_v2_small_patch4_window8_256\n",
      "\t- swin_v2_base_patch4_window8_256\n"
     ]
    }
   ],
   "source": [
    "from mlxim.model import list_models\n",
    "list_models()"
   ]
  },
  {
   "cell_type": "code",
   "execution_count": 7,
   "metadata": {},
   "outputs": [],
   "source": [
    "def _convert_to_float(img):\n",
    "    return img.astype(float)"
   ]
  },
  {
   "cell_type": "code",
   "execution_count": 17,
   "metadata": {},
   "outputs": [
    {
     "name": "stdout",
     "output_type": "stream",
     "text": [
      "> [INFO] dataset sanity check OK\n",
      " ------- LabelFolderDataset stats -------\n",
      "\t- label 0 - ['keyboard'] - 6463/12233 -> 52.833%\n",
      "\t- label 1 - ['no_keyboard'] - 5770/12233 -> 47.167%\n",
      " -------------------------------------\n"
     ]
    }
   ],
   "source": [
    "\n",
    "train_dataset = LabelFolderDataset(\n",
    "    root_dir=\"../testing_data/screenshot_clusters/Messages_kb\",\n",
    "    class_map={0: \"keyboard\", 1: \"no_keyboard\"},\n",
    "    transform=_convert_to_float\n",
    ")\n",
    "\n",
    "train_loader = DataLoader(\n",
    "    dataset=train_dataset,\n",
    "    batch_size=4,\n",
    "    shuffle=True,\n",
    "    num_workers=4,\n",
    "    \n",
    ")\n",
    "# model = create_model(\"resnet18\") # pretrained weights loaded from HF\n",
    "# optimizer = optim.Adam(learning_rate=1e-3)"
   ]
  },
  {
   "cell_type": "code",
   "execution_count": 4,
   "metadata": {},
   "outputs": [],
   "source": [
    "trainer = Trainer(model = model,\n",
    "        optimizer = optimizer,\n",
    "        loss_fn = nn.losses.cross_entropy,\n",
    "        train_loader = train_loader,\n",
    "        max_epochs = 1, \n",
    "        loss_fn_args={})"
   ]
  },
  {
   "cell_type": "code",
   "execution_count": 5,
   "metadata": {},
   "outputs": [
    {
     "name": "stdout",
     "output_type": "stream",
     "text": [
      "\n",
      "******** epoch 0/1 ********\n",
      "\n",
      "> iter=[0/3059] | train_loss=8.088 | train_throughput=1.98 images/second | lr=0.00100\n",
      "> iter=[305/3059] | train_loss=0.657 | train_throughput=2.83 images/second | lr=0.00100\n",
      "> iter=[610/3059] | train_loss=0.516 | train_throughput=2.83 images/second | lr=0.00100\n",
      "> iter=[915/3059] | train_loss=0.417 | train_throughput=2.83 images/second | lr=0.00100\n",
      "> iter=[1220/3059] | train_loss=0.350 | train_throughput=2.80 images/second | lr=0.00100\n",
      "> iter=[1525/3059] | train_loss=0.294 | train_throughput=2.82 images/second | lr=0.00100\n",
      "> iter=[1830/3059] | train_loss=0.253 | train_throughput=2.84 images/second | lr=0.00100\n",
      "> iter=[2135/3059] | train_loss=0.226 | train_throughput=2.83 images/second | lr=0.00100\n",
      "> iter=[2440/3059] | train_loss=0.201 | train_throughput=2.83 images/second | lr=0.00100\n",
      "> iter=[2745/3059] | train_loss=0.188 | train_throughput=2.83 images/second | lr=0.00100\n",
      "> iter=[3050/3059] | train_loss=0.172 | train_throughput=2.82 images/second | lr=0.00100\n",
      "training recap:\n",
      "> epoch_time=4605.09s | train_loss=0.171 | train_throughput=2.82 images/second | train_acc@1=0.984 | train_acc@5=1.000\n",
      "\n",
      "*******************\n",
      "\n"
     ]
    }
   ],
   "source": [
    "trainer.train()"
   ]
  },
  {
   "cell_type": "code",
   "execution_count": 7,
   "metadata": {},
   "outputs": [],
   "source": [
    "trainer.model.save_weights(\"keyboard_pred.npz\")"
   ]
  },
  {
   "cell_type": "markdown",
   "metadata": {},
   "source": [
    "# Get total accuracy and incorrect preds"
   ]
  },
  {
   "cell_type": "code",
   "execution_count": 2,
   "metadata": {},
   "outputs": [],
   "source": [
    "model = create_model(\"resnet18\")\n",
    "model = load_weights(model, \"keyboard_pred.npz\")"
   ]
  },
  {
   "cell_type": "code",
   "execution_count": 3,
   "metadata": {},
   "outputs": [],
   "source": [
    "def load_img(img_path):\n",
    "    im = read_rgb(img_path)\n",
    "    im = _convert_to_float(im)\n",
    "    im = mx.array(im)\n",
    "    im = mx.expand_dims(im, axis=0)\n",
    "    return im"
   ]
  },
  {
   "cell_type": "code",
   "execution_count": 8,
   "metadata": {},
   "outputs": [
    {
     "ename": "FileNotFoundError",
     "evalue": "The path ../testing_data/screenshot_clusters/Messages_kb/no_keyboard/com-google-android-apps-messaging_1721684986456.jpg does not exist",
     "output_type": "error",
     "traceback": [
      "\u001b[0;31m---------------------------------------------------------------------------\u001b[0m",
      "\u001b[0;31mFileNotFoundError\u001b[0m                         Traceback (most recent call last)",
      "Cell \u001b[0;32mIn[8], line 7\u001b[0m\n\u001b[1;32m      5\u001b[0m \u001b[38;5;28;01mfor\u001b[39;00m f \u001b[38;5;129;01min\u001b[39;00m os\u001b[38;5;241m.\u001b[39mlistdir(d):\n\u001b[1;32m      6\u001b[0m     path \u001b[38;5;241m=\u001b[39m os\u001b[38;5;241m.\u001b[39mpath\u001b[38;5;241m.\u001b[39mjoin(d, f)\n\u001b[0;32m----> 7\u001b[0m     im \u001b[38;5;241m=\u001b[39m \u001b[43mload_img\u001b[49m\u001b[43m(\u001b[49m\u001b[43mpath\u001b[49m\u001b[43m)\u001b[49m\n\u001b[1;32m      8\u001b[0m     logits \u001b[38;5;241m=\u001b[39m model(im)\n\u001b[1;32m      9\u001b[0m     pred \u001b[38;5;241m=\u001b[39m mx\u001b[38;5;241m.\u001b[39margsort(logits, axis\u001b[38;5;241m=\u001b[39m\u001b[38;5;241m1\u001b[39m)[:, \u001b[38;5;241m-\u001b[39m\u001b[38;5;241m1\u001b[39m][\u001b[38;5;241m0\u001b[39m]\n",
      "Cell \u001b[0;32mIn[3], line 2\u001b[0m, in \u001b[0;36mload_img\u001b[0;34m(img_path)\u001b[0m\n\u001b[1;32m      1\u001b[0m \u001b[38;5;28;01mdef\u001b[39;00m \u001b[38;5;21mload_img\u001b[39m(img_path):\n\u001b[0;32m----> 2\u001b[0m     im \u001b[38;5;241m=\u001b[39m \u001b[43mread_rgb\u001b[49m\u001b[43m(\u001b[49m\u001b[43mimg_path\u001b[49m\u001b[43m)\u001b[49m\n\u001b[1;32m      3\u001b[0m     im \u001b[38;5;241m=\u001b[39m _convert_to_float(im)\n\u001b[1;32m      4\u001b[0m     im \u001b[38;5;241m=\u001b[39m mx\u001b[38;5;241m.\u001b[39marray(im)\n",
      "File \u001b[0;32m~/miniconda3/envs/hindsight_server/lib/python3.10/site-packages/mlxim/io/image.py:28\u001b[0m, in \u001b[0;36mread_rgb\u001b[0;34m(file_path, engine)\u001b[0m\n\u001b[1;32m     25\u001b[0m     engine \u001b[38;5;241m=\u001b[39m \u001b[38;5;124m\"\u001b[39m\u001b[38;5;124mpil\u001b[39m\u001b[38;5;124m\"\u001b[39m\n\u001b[1;32m     27\u001b[0m \u001b[38;5;28;01mif\u001b[39;00m \u001b[38;5;129;01mnot\u001b[39;00m os\u001b[38;5;241m.\u001b[39mpath\u001b[38;5;241m.\u001b[39mexists(file_path):\n\u001b[0;32m---> 28\u001b[0m     \u001b[38;5;28;01mraise\u001b[39;00m \u001b[38;5;167;01mFileNotFoundError\u001b[39;00m(\u001b[38;5;124mf\u001b[39m\u001b[38;5;124m\"\u001b[39m\u001b[38;5;124mThe path \u001b[39m\u001b[38;5;132;01m{\u001b[39;00mfile_path\u001b[38;5;132;01m}\u001b[39;00m\u001b[38;5;124m does not exist\u001b[39m\u001b[38;5;124m\"\u001b[39m)\n\u001b[1;32m     30\u001b[0m \u001b[38;5;28;01mif\u001b[39;00m engine \u001b[38;5;241m==\u001b[39m \u001b[38;5;124m\"\u001b[39m\u001b[38;5;124mpil\u001b[39m\u001b[38;5;124m\"\u001b[39m:\n\u001b[1;32m     31\u001b[0m     image \u001b[38;5;241m=\u001b[39m Image\u001b[38;5;241m.\u001b[39mopen(file_path)\u001b[38;5;241m.\u001b[39mconvert(\u001b[38;5;124m\"\u001b[39m\u001b[38;5;124mRGB\u001b[39m\u001b[38;5;124m\"\u001b[39m)\n",
      "\u001b[0;31mFileNotFoundError\u001b[0m: The path ../testing_data/screenshot_clusters/Messages_kb/no_keyboard/com-google-android-apps-messaging_1721684986456.jpg does not exist"
     ]
    }
   ],
   "source": [
    "wrong_preds = list()\n",
    "d = \"../testing_data/screenshot_clusters/Messages_kb/no_keyboard\"\n",
    "keyboard_pred = \"../testing_data/screenshot_clusters/Messages_kb/keyboard_pred\"\n",
    "utils.make_dir(keyboard_pred)\n",
    "for f in os.listdir(d):\n",
    "    path = os.path.join(d, f)\n",
    "    im = load_img(path)\n",
    "    logits = model(im)\n",
    "    pred = mx.argsort(logits, axis=1)[:, -1][0]\n",
    "    if pred == 0:\n",
    "        wrong_preds.append(path)\n",
    "        shutil.copy(path, os.path.join(keyboard_pred, f))"
   ]
  },
  {
   "cell_type": "code",
   "execution_count": null,
   "metadata": {},
   "outputs": [],
   "source": [
    "len(wrong_preds)"
   ]
  },
  {
   "cell_type": "code",
   "execution_count": 58,
   "metadata": {},
   "outputs": [
    {
     "name": "stdout",
     "output_type": "stream",
     "text": [
      "h\n"
     ]
    }
   ],
   "source": [
    "if pred == 1:\n",
    "    print('h')"
   ]
  },
  {
   "cell_type": "markdown",
   "metadata": {},
   "source": [
    "# Custom train"
   ]
  },
  {
   "cell_type": "code",
   "execution_count": 4,
   "metadata": {},
   "outputs": [],
   "source": [
    "model.train()\n",
    "for epoch in range(1):\n",
    "    for batch in train_loader:\n",
    "        x, target = batch\n",
    "        x = x.astype(mx.float32) / 255.0\n",
    "        train_step_fn = nn.value_and_grad(model, train_step)\n",
    "        loss, grads = train_step_fn(model, x, target)\n",
    "        optimizer.update(model, grads)\n",
    "        mx.eval(model.state, optimizer.state)\n",
    "model.save_weights(\"keyboard_pred.npz\")"
   ]
  },
  {
   "cell_type": "code",
   "execution_count": 4,
   "metadata": {},
   "outputs": [],
   "source": [
    "losses = list()\n",
    "for batch in train_loader:\n",
    "    x, target = batch\n",
    "    x = x.astype(mx.float32) / 255.0\n",
    "    logits = model(x)\n",
    "    loss = mx.mean(nn.losses.cross_entropy(logits, target))\n",
    "    losses.append(loss)"
   ]
  },
  {
   "cell_type": "code",
   "execution_count": 12,
   "metadata": {},
   "outputs": [],
   "source": [
    "mo"
   ]
  },
  {
   "cell_type": "code",
   "execution_count": 9,
   "metadata": {},
   "outputs": [
    {
     "data": {
      "text/plain": [
       "array(0.031888, dtype=float32)"
      ]
     },
     "execution_count": 9,
     "metadata": {},
     "output_type": "execute_result"
    }
   ],
   "source": [
    "loss"
   ]
  },
  {
   "cell_type": "code",
   "execution_count": 6,
   "metadata": {},
   "outputs": [
    {
     "data": {
      "text/plain": [
       "array([0, 1, 0, 0], dtype=int32)"
      ]
     },
     "execution_count": 6,
     "metadata": {},
     "output_type": "execute_result"
    }
   ],
   "source": [
    "target"
   ]
  },
  {
   "cell_type": "code",
   "execution_count": 7,
   "metadata": {},
   "outputs": [],
   "source": [
    "pred = nn.softmax(logits)"
   ]
  },
  {
   "cell_type": "code",
   "execution_count": 8,
   "metadata": {},
   "outputs": [
    {
     "data": {
      "text/plain": [
       "array([[0.995103, 0.00489663, 7.35773e-16, ..., 1.29947e-15, 1.1011e-14, 1.21547e-14],\n",
       "       [0.111527, 0.888473, 6.30638e-12, ..., 1.08314e-11, 1.42913e-10, 4.22585e-10],\n",
       "       [0.995898, 0.00410203, 2.20345e-16, ..., 4.10853e-16, 3.60592e-15, 3.41826e-15],\n",
       "       [0.999717, 0.00028271, 2.49472e-17, ..., 3.39398e-17, 3.00098e-16, 4.19621e-16]], dtype=float32)"
      ]
     },
     "execution_count": 8,
     "metadata": {},
     "output_type": "execute_result"
    }
   ],
   "source": [
    "pred"
   ]
  },
  {
   "cell_type": "code",
   "execution_count": 5,
   "metadata": {},
   "outputs": [
    {
     "data": {
      "text/plain": [
       "array([[15.9034, 10.5891, -18.9373, ..., -18.3685, -16.2315, -16.1327],\n",
       "       [7.06692, 9.14216, -16.529, ..., -15.9882, -13.4084, -12.3242],\n",
       "       [16.6627, 11.1706, -19.3845, ..., -18.7615, -16.5894, -16.6428],\n",
       "       [18.3014, 10.1306, -19.9281, ..., -19.6203, -17.4408, -17.1055]], dtype=float32)"
      ]
     },
     "execution_count": 5,
     "metadata": {},
     "output_type": "execute_result"
    }
   ],
   "source": [
    "logits"
   ]
  },
  {
   "cell_type": "code",
   "execution_count": 11,
   "metadata": {},
   "outputs": [
    {
     "data": {
      "text/plain": [
       "(4, 1000)"
      ]
     },
     "execution_count": 11,
     "metadata": {},
     "output_type": "execute_result"
    }
   ],
   "source": [
    "logits.shape"
   ]
  },
  {
   "cell_type": "code",
   "execution_count": 8,
   "metadata": {},
   "outputs": [
    {
     "data": {
      "text/plain": [
       "[array(1.28949, dtype=float32),\n",
       " array(0.484149, dtype=float32),\n",
       " array(1.01843, dtype=float32),\n",
       " array(1.07637, dtype=float32),\n",
       " array(0.332378, dtype=float32),\n",
       " array(1.59821, dtype=float32),\n",
       " array(0.446189, dtype=float32),\n",
       " array(0.394225, dtype=float32),\n",
       " array(0.863487, dtype=float32),\n",
       " array(0.539639, dtype=float32),\n",
       " array(0.683185, dtype=float32),\n",
       " array(0.291809, dtype=float32),\n",
       " array(1.37085, dtype=float32),\n",
       " array(1.64025, dtype=float32),\n",
       " array(0.501101, dtype=float32),\n",
       " array(0.781838, dtype=float32),\n",
       " array(0.386523, dtype=float32),\n",
       " array(0.691342, dtype=float32),\n",
       " array(0.320483, dtype=float32),\n",
       " array(0.779269, dtype=float32),\n",
       " array(0.495409, dtype=float32),\n",
       " array(0.403279, dtype=float32),\n",
       " array(0.318139, dtype=float32),\n",
       " array(0.446375, dtype=float32),\n",
       " array(1.21727, dtype=float32),\n",
       " array(0.475137, dtype=float32),\n",
       " array(0.435272, dtype=float32),\n",
       " array(1.26628, dtype=float32),\n",
       " array(0.506136, dtype=float32),\n",
       " array(1.59153, dtype=float32),\n",
       " array(1.10125, dtype=float32),\n",
       " array(1.00805, dtype=float32),\n",
       " array(0.714877, dtype=float32),\n",
       " array(0.636045, dtype=float32),\n",
       " array(0.272726, dtype=float32),\n",
       " array(0.477569, dtype=float32),\n",
       " array(0.929289, dtype=float32),\n",
       " array(1.52675, dtype=float32),\n",
       " array(0.556492, dtype=float32),\n",
       " array(0.481002, dtype=float32),\n",
       " array(0.725044, dtype=float32),\n",
       " array(0.335522, dtype=float32),\n",
       " array(0.816586, dtype=float32),\n",
       " array(1.35109, dtype=float32),\n",
       " array(1.18893, dtype=float32),\n",
       " array(0.351579, dtype=float32),\n",
       " array(0.149124, dtype=float32),\n",
       " array(0.381646, dtype=float32),\n",
       " array(0.642282, dtype=float32),\n",
       " array(0.751661, dtype=float32)]"
      ]
     },
     "execution_count": 8,
     "metadata": {},
     "output_type": "execute_result"
    }
   ],
   "source": [
    "losses"
   ]
  },
  {
   "cell_type": "code",
   "execution_count": null,
   "metadata": {},
   "outputs": [],
   "source": []
  }
 ],
 "metadata": {
  "kernelspec": {
   "display_name": "hindsight_server",
   "language": "python",
   "name": "python3"
  },
  "language_info": {
   "codemirror_mode": {
    "name": "ipython",
    "version": 3
   },
   "file_extension": ".py",
   "mimetype": "text/x-python",
   "name": "python",
   "nbconvert_exporter": "python",
   "pygments_lexer": "ipython3",
   "version": "3.10.14"
  }
 },
 "nbformat": 4,
 "nbformat_minor": 2
}
