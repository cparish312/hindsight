{
 "cells": [
  {
   "cell_type": "code",
   "execution_count": 66,
   "metadata": {},
   "outputs": [],
   "source": [
    "import os\n",
    "import shutil\n",
    "import cv2\n",
    "import glob\n",
    "\n",
    "import numpy as np\n",
    "import pandas as pd\n",
    "\n",
    "import matplotlib.pyplot as plt"
   ]
  },
  {
   "cell_type": "code",
   "execution_count": 67,
   "metadata": {},
   "outputs": [],
   "source": [
    "RAW_SCREENSHOTS_DIR = '/Users/connorparish/projects/hindsight/pixel8_screenshots_o'\n",
    "PROCESSED_SCREENSHOTS_DIR = '/Users/connorparish/projects/hindsight/pixel8_screenshots'"
   ]
  },
  {
   "cell_type": "code",
   "execution_count": 77,
   "metadata": {},
   "outputs": [],
   "source": [
    "def generate_images_df(image_dir):\n",
    "    images_l = list()\n",
    "    for f in glob.glob(f\"{image_dir}/*.jpg\"):\n",
    "        filename = f.split('/')[-1]\n",
    "        filename_s = filename.replace(\".jpg\", \"\").split(\"_\")\n",
    "        application = filename_s[0]\n",
    "        timestamp = int(filename_s[1])\n",
    "        images_l.append({\"path\" : f, \"timestamp\" : timestamp, \"app\" : application})\n",
    "    return pd.DataFrame(images_l)"
   ]
  },
  {
   "cell_type": "code",
   "execution_count": 78,
   "metadata": {},
   "outputs": [],
   "source": [
    "images_df = generate_images_df(image_dir=RAW_SCREENSHOTS_DIR).sort_values(by=\"timestamp\", ascending=True).reset_index(drop=True)"
   ]
  },
  {
   "cell_type": "code",
   "execution_count": 79,
   "metadata": {},
   "outputs": [],
   "source": [
    "def get_image_diff(frame_0_gray, frame_1_gray):\n",
    "    frame_diff = cv2.absdiff(frame_0_gray, frame_1_gray)\n",
    "    frame_diff = frame_diff.astype(np.uint8)\n",
    "    diff_percentage = np.count_nonzero(frame_diff) / frame_diff.size\n",
    "    return diff_percentage"
   ]
  },
  {
   "cell_type": "code",
   "execution_count": 80,
   "metadata": {},
   "outputs": [],
   "source": [
    "DIFF_THRESH = 0.05\n",
    "\n",
    "unique_images = list(images_df.iloc[0]['path'])\n",
    "prev_image = None\n",
    "for i, row in images_df.iterrows():\n",
    "    image = cv2.imread(row['path'], 0)\n",
    "    if prev_image is not None:\n",
    "        diff = get_image_diff(prev_image, image)\n",
    "        if diff > DIFF_THRESH:\n",
    "            unique_images.append(row['path'])\n",
    "            prev_image = image\n",
    "    else:\n",
    "        prev_image = image"
   ]
  },
  {
   "cell_type": "code",
   "execution_count": 81,
   "metadata": {},
   "outputs": [
    {
     "data": {
      "text/plain": [
       "6356"
      ]
     },
     "execution_count": 81,
     "metadata": {},
     "output_type": "execute_result"
    }
   ],
   "source": [
    "len(unique_images)"
   ]
  },
  {
   "cell_type": "code",
   "execution_count": 82,
   "metadata": {},
   "outputs": [],
   "source": [
    "unique_images_df = images_df.loc[images_df['path'].isin(unique_images)]"
   ]
  },
  {
   "cell_type": "code",
   "execution_count": 83,
   "metadata": {},
   "outputs": [
    {
     "name": "stderr",
     "output_type": "stream",
     "text": [
      "/var/folders/c_/2c9vmfhd35bgwc_6h0q80d180000gn/T/ipykernel_29253/603215192.py:1: SettingWithCopyWarning: \n",
      "A value is trying to be set on a copy of a slice from a DataFrame.\n",
      "Try using .loc[row_indexer,col_indexer] = value instead\n",
      "\n",
      "See the caveats in the documentation: https://pandas.pydata.org/pandas-docs/stable/user_guide/indexing.html#returning-a-view-versus-a-copy\n",
      "  unique_images_df['datetime'] = pd.to_datetime(unique_images_df['timestamp'] / 1000, unit='s', utc=True)\n"
     ]
    }
   ],
   "source": [
    "unique_images_df['datetime'] = pd.to_datetime(unique_images_df['timestamp'] / 1000, unit='s', utc=True)"
   ]
  },
  {
   "cell_type": "code",
   "execution_count": 85,
   "metadata": {},
   "outputs": [
    {
     "name": "stderr",
     "output_type": "stream",
     "text": [
      "/var/folders/c_/2c9vmfhd35bgwc_6h0q80d180000gn/T/ipykernel_29253/3616631726.py:1: SettingWithCopyWarning: \n",
      "A value is trying to be set on a copy of a slice from a DataFrame.\n",
      "Try using .loc[row_indexer,col_indexer] = value instead\n",
      "\n",
      "See the caveats in the documentation: https://pandas.pydata.org/pandas-docs/stable/user_guide/indexing.html#returning-a-view-versus-a-copy\n",
      "  unique_images_df['day_dir'] = unique_images_df.apply(lambda row: os.path.join(PROCESSED_SCREENSHOTS_DIR, f\"{row['datetime'].strftime('%Y/%m/%d')}/{row['app']}/\"), axis=1)\n",
      "/var/folders/c_/2c9vmfhd35bgwc_6h0q80d180000gn/T/ipykernel_29253/3616631726.py:2: SettingWithCopyWarning: \n",
      "A value is trying to be set on a copy of a slice from a DataFrame.\n",
      "Try using .loc[row_indexer,col_indexer] = value instead\n",
      "\n",
      "See the caveats in the documentation: https://pandas.pydata.org/pandas-docs/stable/user_guide/indexing.html#returning-a-view-versus-a-copy\n",
      "  unique_images_df['filename'] = unique_images_df['path'].apply(lambda x: x.split('/')[-1])\n"
     ]
    }
   ],
   "source": [
    "unique_images_df['day_dir'] = unique_images_df.apply(lambda row: os.path.join(PROCESSED_SCREENSHOTS_DIR, f\"{row['datetime'].strftime('%Y/%m/%d')}/{row['app']}/\"), axis=1)\n",
    "unique_images_df['filename'] = unique_images_df['path'].apply(lambda x: x.split('/')[-1])"
   ]
  },
  {
   "cell_type": "code",
   "execution_count": 86,
   "metadata": {},
   "outputs": [],
   "source": [
    "def make_dir(d):\n",
    "    if not os.path.exists(d):\n",
    "        os.makedirs(d)\n",
    "\n",
    "for d in set(unique_images_df['day_dir']):\n",
    "    make_dir(d)"
   ]
  },
  {
   "cell_type": "code",
   "execution_count": 87,
   "metadata": {},
   "outputs": [],
   "source": [
    "for i, row in unique_images_df.iterrows():\n",
    "    dest_f = os.path.join(row['day_dir'], row['filename'])\n",
    "    if not os.path.exists(dest_f):\n",
    "        shutil.copyfile(row['path'], dest_f)"
   ]
  },
  {
   "cell_type": "code",
   "execution_count": null,
   "metadata": {},
   "outputs": [],
   "source": []
  }
 ],
 "metadata": {
  "kernelspec": {
   "display_name": "Python 3",
   "language": "python",
   "name": "python3"
  },
  "language_info": {
   "codemirror_mode": {
    "name": "ipython",
    "version": 3
   },
   "file_extension": ".py",
   "mimetype": "text/x-python",
   "name": "python",
   "nbconvert_exporter": "python",
   "pygments_lexer": "ipython3",
   "version": "3.9.19"
  }
 },
 "nbformat": 4,
 "nbformat_minor": 2
}
