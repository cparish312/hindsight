{
 "cells": [
  {
   "cell_type": "code",
   "execution_count": 1,
   "metadata": {},
   "outputs": [
    {
     "name": "stderr",
     "output_type": "stream",
     "text": [
      "/Users/connorparish/miniconda3/envs/hindsight_exp/lib/python3.9/site-packages/tqdm/auto.py:21: TqdmWarning: IProgress not found. Please update jupyter and ipywidgets. See https://ipywidgets.readthedocs.io/en/stable/user_install.html\n",
      "  from .autonotebook import tqdm as notebook_tqdm\n"
     ]
    }
   ],
   "source": [
    "import os\n",
    "import chromadb\n",
    "from chromadb import Documents, Embeddings, EmbeddingFunction\n",
    "import sys\n",
    "\n",
    "from mlx_embedding_models.embedding import EmbeddingModel\n",
    "\n",
    "sys.path.insert(0, \"../\")\n",
    "from db import HindsightDB\n",
    "from config import DATA_DIR\n",
    "import utils"
   ]
  },
  {
   "cell_type": "code",
   "execution_count": 10,
   "metadata": {},
   "outputs": [],
   "source": [
    "db = HindsightDB()"
   ]
  },
  {
   "cell_type": "code",
   "execution_count": 22,
   "metadata": {},
   "outputs": [],
   "source": [
    "db.release_lock(\"chromadb\")"
   ]
  },
  {
   "cell_type": "code",
   "execution_count": 21,
   "metadata": {},
   "outputs": [
    {
     "data": {
      "text/plain": [
       "True"
      ]
     },
     "execution_count": 21,
     "metadata": {},
     "output_type": "execute_result"
    }
   ],
   "source": [
    "db.acquire_lock(\"chromadb\")"
   ]
  },
  {
   "cell_type": "code",
   "execution_count": 11,
   "metadata": {},
   "outputs": [],
   "source": [
    "frames_df = db.get_non_chromadb_processed_frames_with_ocr()"
   ]
  },
  {
   "cell_type": "code",
   "execution_count": 12,
   "metadata": {},
   "outputs": [
    {
     "data": {
      "text/html": [
       "<div>\n",
       "<style scoped>\n",
       "    .dataframe tbody tr th:only-of-type {\n",
       "        vertical-align: middle;\n",
       "    }\n",
       "\n",
       "    .dataframe tbody tr th {\n",
       "        vertical-align: top;\n",
       "    }\n",
       "\n",
       "    .dataframe thead th {\n",
       "        text-align: right;\n",
       "    }\n",
       "</style>\n",
       "<table border=\"1\" class=\"dataframe\">\n",
       "  <thead>\n",
       "    <tr style=\"text-align: right;\">\n",
       "      <th></th>\n",
       "      <th>id</th>\n",
       "      <th>timestamp</th>\n",
       "      <th>path</th>\n",
       "      <th>application</th>\n",
       "      <th>chromadb_processed</th>\n",
       "    </tr>\n",
       "  </thead>\n",
       "  <tbody>\n",
       "    <tr>\n",
       "      <th>0</th>\n",
       "      <td>100397</td>\n",
       "      <td>1718636489126</td>\n",
       "      <td>/Users/connorparish/code/hindsight/hindsight_s...</td>\n",
       "      <td>com-connor-hindsight</td>\n",
       "      <td>0</td>\n",
       "    </tr>\n",
       "    <tr>\n",
       "      <th>1</th>\n",
       "      <td>100398</td>\n",
       "      <td>1718636547237</td>\n",
       "      <td>/Users/connorparish/code/hindsight/hindsight_s...</td>\n",
       "      <td>com-android-systemui</td>\n",
       "      <td>0</td>\n",
       "    </tr>\n",
       "    <tr>\n",
       "      <th>2</th>\n",
       "      <td>100399</td>\n",
       "      <td>1718637248112</td>\n",
       "      <td>/Users/connorparish/code/hindsight/hindsight_s...</td>\n",
       "      <td>com-android-systemui</td>\n",
       "      <td>0</td>\n",
       "    </tr>\n",
       "    <tr>\n",
       "      <th>3</th>\n",
       "      <td>100400</td>\n",
       "      <td>1718637250186</td>\n",
       "      <td>/Users/connorparish/code/hindsight/hindsight_s...</td>\n",
       "      <td>com-connor-hindsight</td>\n",
       "      <td>0</td>\n",
       "    </tr>\n",
       "    <tr>\n",
       "      <th>4</th>\n",
       "      <td>100401</td>\n",
       "      <td>1718637252253</td>\n",
       "      <td>/Users/connorparish/code/hindsight/hindsight_s...</td>\n",
       "      <td>com-android-systemui</td>\n",
       "      <td>0</td>\n",
       "    </tr>\n",
       "    <tr>\n",
       "      <th>...</th>\n",
       "      <td>...</td>\n",
       "      <td>...</td>\n",
       "      <td>...</td>\n",
       "      <td>...</td>\n",
       "      <td>...</td>\n",
       "    </tr>\n",
       "    <tr>\n",
       "      <th>355</th>\n",
       "      <td>100751</td>\n",
       "      <td>1718640451932</td>\n",
       "      <td>/Users/connorparish/code/hindsight/hindsight_s...</td>\n",
       "      <td>com-google-android-apps-nexuslauncher</td>\n",
       "      <td>0</td>\n",
       "    </tr>\n",
       "    <tr>\n",
       "      <th>356</th>\n",
       "      <td>100753</td>\n",
       "      <td>1718640550797</td>\n",
       "      <td>/Users/connorparish/code/hindsight/hindsight_s...</td>\n",
       "      <td>com-connor-hindsight</td>\n",
       "      <td>0</td>\n",
       "    </tr>\n",
       "    <tr>\n",
       "      <th>357</th>\n",
       "      <td>100754</td>\n",
       "      <td>1718640558887</td>\n",
       "      <td>/Users/connorparish/code/hindsight/hindsight_s...</td>\n",
       "      <td>com-connor-hindsight</td>\n",
       "      <td>0</td>\n",
       "    </tr>\n",
       "    <tr>\n",
       "      <th>358</th>\n",
       "      <td>100755</td>\n",
       "      <td>1718640729905</td>\n",
       "      <td>/Users/connorparish/code/hindsight/hindsight_s...</td>\n",
       "      <td>com-android-systemui</td>\n",
       "      <td>0</td>\n",
       "    </tr>\n",
       "    <tr>\n",
       "      <th>359</th>\n",
       "      <td>100756</td>\n",
       "      <td>1718640752195</td>\n",
       "      <td>/Users/connorparish/code/hindsight/hindsight_s...</td>\n",
       "      <td>com-android-systemui</td>\n",
       "      <td>0</td>\n",
       "    </tr>\n",
       "  </tbody>\n",
       "</table>\n",
       "<p>360 rows × 5 columns</p>\n",
       "</div>"
      ],
      "text/plain": [
       "         id      timestamp                                               path  \\\n",
       "0    100397  1718636489126  /Users/connorparish/code/hindsight/hindsight_s...   \n",
       "1    100398  1718636547237  /Users/connorparish/code/hindsight/hindsight_s...   \n",
       "2    100399  1718637248112  /Users/connorparish/code/hindsight/hindsight_s...   \n",
       "3    100400  1718637250186  /Users/connorparish/code/hindsight/hindsight_s...   \n",
       "4    100401  1718637252253  /Users/connorparish/code/hindsight/hindsight_s...   \n",
       "..      ...            ...                                                ...   \n",
       "355  100751  1718640451932  /Users/connorparish/code/hindsight/hindsight_s...   \n",
       "356  100753  1718640550797  /Users/connorparish/code/hindsight/hindsight_s...   \n",
       "357  100754  1718640558887  /Users/connorparish/code/hindsight/hindsight_s...   \n",
       "358  100755  1718640729905  /Users/connorparish/code/hindsight/hindsight_s...   \n",
       "359  100756  1718640752195  /Users/connorparish/code/hindsight/hindsight_s...   \n",
       "\n",
       "                               application  chromadb_processed  \n",
       "0                     com-connor-hindsight                   0  \n",
       "1                     com-android-systemui                   0  \n",
       "2                     com-android-systemui                   0  \n",
       "3                     com-connor-hindsight                   0  \n",
       "4                     com-android-systemui                   0  \n",
       "..                                     ...                 ...  \n",
       "355  com-google-android-apps-nexuslauncher                   0  \n",
       "356                   com-connor-hindsight                   0  \n",
       "357                   com-connor-hindsight                   0  \n",
       "358                   com-android-systemui                   0  \n",
       "359                   com-android-systemui                   0  \n",
       "\n",
       "[360 rows x 5 columns]"
      ]
     },
     "execution_count": 12,
     "metadata": {},
     "output_type": "execute_result"
    }
   ],
   "source": [
    "frames_df"
   ]
  },
  {
   "cell_type": "code",
   "execution_count": 13,
   "metadata": {},
   "outputs": [],
   "source": [
    "frames = db.get_frames()\n",
    "frames = utils.add_datetimes(frames)\n",
    "frames = frames.sort_values(by='datetime_local', ascending=True)\n",
    "ocr_results_df = db.get_frames_with_ocr()"
   ]
  },
  {
   "cell_type": "code",
   "execution_count": 14,
   "metadata": {},
   "outputs": [],
   "source": [
    "class MLXEmbeddingFunction(EmbeddingFunction):\n",
    "    def __init__(self, model_id=\"bge-base\"):\n",
    "        self.embedding_model = EmbeddingModel.from_registry(model_id)\n",
    "\n",
    "    def __call__(self, input: Documents) -> Embeddings:\n",
    "        return self.embedding_model.encode(input).tolist()"
   ]
  },
  {
   "cell_type": "code",
   "execution_count": 15,
   "metadata": {},
   "outputs": [
    {
     "name": "stderr",
     "output_type": "stream",
     "text": [
      "/Users/connorparish/miniconda3/envs/hindsight_exp/lib/python3.9/site-packages/huggingface_hub/file_download.py:1132: FutureWarning: `resume_download` is deprecated and will be removed in version 1.0.0. Downloads always resume when possible. If you want to force a new download, use `force_download=True`.\n",
      "  warnings.warn(\n"
     ]
    }
   ],
   "source": [
    "embedding_function = MLXEmbeddingFunction()"
   ]
  },
  {
   "cell_type": "code",
   "execution_count": 19,
   "metadata": {},
   "outputs": [],
   "source": [
    "chroma_db_path = os.path.join(DATA_DIR, \"chromadb\")\n",
    "chroma_client = chromadb.PersistentClient(path=chroma_db_path)\n",
    "chroma_collection = chroma_client.get_or_create_collection(\"pixel_screenshots\", embedding_function=embedding_function)"
   ]
  },
  {
   "cell_type": "code",
   "execution_count": 20,
   "metadata": {},
   "outputs": [],
   "source": [
    "ingested_ids = [int(i) for i in chroma_collection.get()['ids']]"
   ]
  },
  {
   "cell_type": "code",
   "execution_count": 21,
   "metadata": {},
   "outputs": [],
   "source": [
    "frames = frames.loc[~(frames['id'].isin(ingested_ids))]"
   ]
  },
  {
   "cell_type": "code",
   "execution_count": 22,
   "metadata": {},
   "outputs": [],
   "source": [
    "def get_screenshot_preprompt(application, timestamp):\n",
    "    return f\"\"\"Description: Text from a screenshot of {application} with UTC timestamp {timestamp}: \\n\"\"\" + \"-\"*20 + \"/n\"\n",
    "\n",
    "def get_chromadb_text(ocr_result, application, timestamp):\n",
    "    frame_cleaned_text = utils.ocr_results_to_str(ocr_result)\n",
    "    frame_text = get_screenshot_preprompt(application, timestamp) + frame_cleaned_text\n",
    "    return frame_text\n",
    "\n",
    "def get_chromadb_metadata(row):\n",
    "    return {\"frame_id\" : row['id'], \"application\" : row['application'], \"timestamp\" : row['timestamp']}"
   ]
  },
  {
   "cell_type": "code",
   "execution_count": 26,
   "metadata": {},
   "outputs": [
    {
     "name": "stdout",
     "output_type": "stream",
     "text": [
      "0\n",
      "1\n",
      "2\n",
      "3\n",
      "4\n"
     ]
    }
   ],
   "source": [
    "batch_size = 1000\n",
    "num_batches = len(frames) // batch_size + (1 if len(frames) % batch_size > 0 else 0)\n",
    "for i in range(num_batches):\n",
    "    print(i)\n",
    "    # Extract the batch\n",
    "    start_index = i * batch_size\n",
    "    end_index = start_index + batch_size\n",
    "    frames_batch = frames.iloc[start_index:end_index]\n",
    "\n",
    "    documents = list()\n",
    "    metadatas = list()\n",
    "    ids = list()\n",
    "    for i, row in frames_batch.iterrows():\n",
    "        # ocr_result = db.get_ocr_results(frame_id=row['id'])\n",
    "        ocr_result = ocr_results_df.loc[ocr_results_df['frame_id'] == row['id']]\n",
    "        if len(ocr_result) == 0 or set(ocr_result['text']) == {None}:\n",
    "            continue\n",
    "        documents.append(get_chromadb_text(ocr_result=ocr_result, application=row['application'], timestamp=row['timestamp']))\n",
    "        metadatas.append(get_chromadb_metadata(row))\n",
    "        ids.append(str(row['id']))\n",
    "    \n",
    "    if len(documents) == 0:\n",
    "        continue\n",
    "    \n",
    "    chroma_collection.add(\n",
    "        documents=documents,\n",
    "        metadatas=metadatas,\n",
    "        ids=ids\n",
    "    )"
   ]
  },
  {
   "cell_type": "markdown",
   "metadata": {},
   "source": [
    "# Try querying"
   ]
  },
  {
   "cell_type": "code",
   "execution_count": 27,
   "metadata": {},
   "outputs": [
    {
     "name": "stderr",
     "output_type": "stream",
     "text": [
      "100%|██████████| 1/1 [00:00<00:00,  4.14it/s, seq_len=16]\n"
     ]
    }
   ],
   "source": [
    "results = chroma_collection.query(\n",
    "        query_texts=[\"How much battery does Hindsight use?\"],\n",
    "        n_results=10,\n",
    "        # where={\"metadata_field\": \"is_equal_to_this\"},\n",
    "        # where_document={\"$contains\":\"search_string\"}\n",
    "    )"
   ]
  },
  {
   "cell_type": "code",
   "execution_count": 28,
   "metadata": {},
   "outputs": [
    {
     "data": {
      "text/plain": [
       "{'ids': [['40563',\n",
       "   '14911',\n",
       "   '40481',\n",
       "   '14829',\n",
       "   '14830',\n",
       "   '40482',\n",
       "   '40415',\n",
       "   '14763',\n",
       "   '14760',\n",
       "   '40412']],\n",
       " 'distances': [[0.6643862724304199,\n",
       "   0.6643862724304199,\n",
       "   0.6859386563301086,\n",
       "   0.6859386563301086,\n",
       "   0.6958475112915039,\n",
       "   0.6958475112915039,\n",
       "   0.6958898305892944,\n",
       "   0.6958898305892944,\n",
       "   0.7418527007102966,\n",
       "   0.7418527007102966]],\n",
       " 'metadatas': [[{'application': 'com-google-android-as',\n",
       "    'frame_id': 40563,\n",
       "    'timestamp': 1716347348791},\n",
       "   {'application': 'com-google-android-as',\n",
       "    'frame_id': 14911,\n",
       "    'timestamp': 1716347348791},\n",
       "   {'application': 'com-google-android-apps-messaging',\n",
       "    'frame_id': 40481,\n",
       "    'timestamp': 1716347657684},\n",
       "   {'application': 'com-google-android-apps-messaging',\n",
       "    'frame_id': 14829,\n",
       "    'timestamp': 1716347657684},\n",
       "   {'application': 'com-google-android-apps-messaging',\n",
       "    'frame_id': 14830,\n",
       "    'timestamp': 1716347655656},\n",
       "   {'application': 'com-google-android-apps-messaging',\n",
       "    'frame_id': 40482,\n",
       "    'timestamp': 1716347655656},\n",
       "   {'application': 'com-google-android-inputmethod-latin',\n",
       "    'frame_id': 40415,\n",
       "    'timestamp': 1716347847537},\n",
       "   {'application': 'com-google-android-inputmethod-latin',\n",
       "    'frame_id': 14763,\n",
       "    'timestamp': 1716347847537},\n",
       "   {'application': 'com-google-android-inputmethod-latin',\n",
       "    'frame_id': 14760,\n",
       "    'timestamp': 1716347857837},\n",
       "   {'application': 'com-google-android-inputmethod-latin',\n",
       "    'frame_id': 40412,\n",
       "    'timestamp': 1716347857837}]],\n",
       " 'embeddings': None,\n",
       " 'documents': [['Description: Text from a screenshot of com-google-android-as with UTC timestamp 1716347348791: \\n--------------------/n11:09 |1*\\n--------------------\\nMe       :\\n--------------------\\n11:08 PM\\n--------------------\\nTexting with Me (SMS/MMS)\\n--------------------\\nHow much battery does hindsight use?\\n--------------------\\n11:09 PM • SMS\\n--------------------\\nText message\\n--------------------\\n',\n",
       "   'Description: Text from a screenshot of com-google-android-as with UTC timestamp 1716347348791: \\n--------------------/n11:09 |1*\\n--------------------\\nMe       :\\n--------------------\\n11:08 PM\\n--------------------\\nTexting with Me (SMS/MMS)\\n--------------------\\nHow much battery does hindsight use?\\n--------------------\\n11:09 PM • SMS\\n--------------------\\nText message\\n--------------------\\n',\n",
       "   'Description: Text from a screenshot of com-google-android-apps-messaging with UTC timestamp 1716347657684: \\n--------------------/n11:14 |•\\n--------------------\\nMe\\n--------------------\\n11:08 PM\\n--------------------\\nTexting with Me (SMS/MMS)\\n--------------------\\nHow much battery does hindsight use?\\n--------------------\\n11:09 PM • SMS\\n--------------------\\nText message\\n--------------------\\n• Folders\\n--------------------\\n',\n",
       "   'Description: Text from a screenshot of com-google-android-apps-messaging with UTC timestamp 1716347657684: \\n--------------------/n11:14 |•\\n--------------------\\nMe\\n--------------------\\n11:08 PM\\n--------------------\\nTexting with Me (SMS/MMS)\\n--------------------\\nHow much battery does hindsight use?\\n--------------------\\n11:09 PM • SMS\\n--------------------\\nText message\\n--------------------\\n• Folders\\n--------------------\\n',\n",
       "   'Description: Text from a screenshot of com-google-android-apps-messaging with UTC timestamp 1716347655656: \\n--------------------/n11:14 |1*\\n--------------------\\nMe       :\\n--------------------\\n11:08 PM\\n--------------------\\nTexting with Me (SMS/MMS)\\n--------------------\\nHow much battery does hindsight use?\\n--------------------\\n11:09 PM • SMS\\n--------------------\\nText message\\n--------------------\\n',\n",
       "   'Description: Text from a screenshot of com-google-android-apps-messaging with UTC timestamp 1716347655656: \\n--------------------/n11:14 |1*\\n--------------------\\nMe       :\\n--------------------\\n11:08 PM\\n--------------------\\nTexting with Me (SMS/MMS)\\n--------------------\\nHow much battery does hindsight use?\\n--------------------\\n11:09 PM • SMS\\n--------------------\\nText message\\n--------------------\\n',\n",
       "   'Description: Text from a screenshot of com-google-android-inputmethod-latin with UTC timestamp 1716347847537: \\n--------------------/n11:17 1|1•\\n--------------------\\nMe      :\\n--------------------\\n11:08 PM\\n--------------------\\nTexting with Me (SMS/MMS)\\n--------------------\\nHow much battery does hindsight use?\\n--------------------\\nDouble tap to star\\n  11:14 PM • SMS\\n--------------------\\n   Export battery usage to\\n       SMS\\n88 get  the  a\\n   W    e   r   t  u 8\\n--------------------\\na   S f   g   h   j   k\\n--------------------\\nV  b  n  m\\n--------------------\\n2123\\n--------------------\\n',\n",
       "   'Description: Text from a screenshot of com-google-android-inputmethod-latin with UTC timestamp 1716347847537: \\n--------------------/n11:17 1|1•\\n--------------------\\nMe      :\\n--------------------\\n11:08 PM\\n--------------------\\nTexting with Me (SMS/MMS)\\n--------------------\\nHow much battery does hindsight use?\\n--------------------\\nDouble tap to star\\n  11:14 PM • SMS\\n--------------------\\n   Export battery usage to\\n       SMS\\n88 get  the  a\\n   W    e   r   t  u 8\\n--------------------\\na   S f   g   h   j   k\\n--------------------\\nV  b  n  m\\n--------------------\\n2123\\n--------------------\\n',\n",
       "   'Description: Text from a screenshot of com-google-android-inputmethod-latin with UTC timestamp 1716347857837: \\n--------------------/n11:17 1|1*\\n--------------------\\nMe      :\\n--------------------\\n11:08 PM\\n--------------------\\nTexting with Me (SMS/MMS)\\n--------------------\\nHow much battery does hindsight use?\\n--------------------\\nDouble tap to star\\n--------------------\\nExport battery usage to CVS and post\\n--------------------\\nText message\\n--------------------\\n88  GIF\\n--------------------\\nQ   E   R Y 8\\n--------------------\\nASDFGHJKL\\n--------------------\\nZ XCVBNM\\n--------------------\\n2123\\n--------------------\\n',\n",
       "   'Description: Text from a screenshot of com-google-android-inputmethod-latin with UTC timestamp 1716347857837: \\n--------------------/n11:17 1|1*\\n--------------------\\nMe      :\\n--------------------\\n11:08 PM\\n--------------------\\nTexting with Me (SMS/MMS)\\n--------------------\\nHow much battery does hindsight use?\\n--------------------\\nDouble tap to star\\n--------------------\\nExport battery usage to CVS and post\\n--------------------\\nText message\\n--------------------\\n88  GIF\\n--------------------\\nQ   E   R Y 8\\n--------------------\\nASDFGHJKL\\n--------------------\\nZ XCVBNM\\n--------------------\\n2123\\n--------------------\\n']],\n",
       " 'uris': None,\n",
       " 'data': None}"
      ]
     },
     "execution_count": 28,
     "metadata": {},
     "output_type": "execute_result"
    }
   ],
   "source": [
    "results"
   ]
  },
  {
   "cell_type": "code",
   "execution_count": null,
   "metadata": {},
   "outputs": [],
   "source": []
  }
 ],
 "metadata": {
  "kernelspec": {
   "display_name": "hindsight_exp",
   "language": "python",
   "name": "python3"
  },
  "language_info": {
   "codemirror_mode": {
    "name": "ipython",
    "version": 3
   },
   "file_extension": ".py",
   "mimetype": "text/x-python",
   "name": "python",
   "nbconvert_exporter": "python",
   "pygments_lexer": "ipython3",
   "version": "3.9.18"
  }
 },
 "nbformat": 4,
 "nbformat_minor": 2
}
