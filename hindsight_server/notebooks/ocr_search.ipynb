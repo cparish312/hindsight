{
 "cells": [
  {
   "cell_type": "markdown",
   "metadata": {},
   "source": [
    "# Notebook for searching OCR results"
   ]
  },
  {
   "cell_type": "code",
   "execution_count": 13,
   "metadata": {},
   "outputs": [],
   "source": [
    "import sys\n",
    "sys.path.insert(0, \"../\")\n",
    "from db import HindsightDB"
   ]
  },
  {
   "cell_type": "code",
   "execution_count": 18,
   "metadata": {},
   "outputs": [],
   "source": [
    "db = HindsightDB()"
   ]
  },
  {
   "cell_type": "code",
   "execution_count": 19,
   "metadata": {},
   "outputs": [],
   "source": [
    "frames = db.get_frames()"
   ]
  },
  {
   "cell_type": "code",
   "execution_count": 20,
   "metadata": {},
   "outputs": [
    {
     "data": {
      "text/html": [
       "<div>\n",
       "<style scoped>\n",
       "    .dataframe tbody tr th:only-of-type {\n",
       "        vertical-align: middle;\n",
       "    }\n",
       "\n",
       "    .dataframe tbody tr th {\n",
       "        vertical-align: top;\n",
       "    }\n",
       "\n",
       "    .dataframe thead th {\n",
       "        text-align: right;\n",
       "    }\n",
       "</style>\n",
       "<table border=\"1\" class=\"dataframe\">\n",
       "  <thead>\n",
       "    <tr style=\"text-align: right;\">\n",
       "      <th></th>\n",
       "      <th>id</th>\n",
       "      <th>timestamp</th>\n",
       "      <th>path</th>\n",
       "      <th>application</th>\n",
       "    </tr>\n",
       "  </thead>\n",
       "  <tbody>\n",
       "    <tr>\n",
       "      <th>0</th>\n",
       "      <td>1</td>\n",
       "      <td>1717377683566</td>\n",
       "      <td>./data/raw_screenshots/2024/06/03/com-connor-h...</td>\n",
       "      <td>com-connor-hindsight</td>\n",
       "    </tr>\n",
       "    <tr>\n",
       "      <th>1</th>\n",
       "      <td>2</td>\n",
       "      <td>1717377681460</td>\n",
       "      <td>./data/raw_screenshots/2024/06/03/com-google-a...</td>\n",
       "      <td>com-google-android-apps-nexuslauncher</td>\n",
       "    </tr>\n",
       "    <tr>\n",
       "      <th>2</th>\n",
       "      <td>3</td>\n",
       "      <td>1717377679352</td>\n",
       "      <td>./data/raw_screenshots/2024/06/03/com-google-a...</td>\n",
       "      <td>com-google-android-apps-nexuslauncher</td>\n",
       "    </tr>\n",
       "    <tr>\n",
       "      <th>3</th>\n",
       "      <td>4</td>\n",
       "      <td>1717377364406</td>\n",
       "      <td>./data/raw_screenshots/2024/06/03/com-google-a...</td>\n",
       "      <td>com-google-android-apps-nexuslauncher</td>\n",
       "    </tr>\n",
       "    <tr>\n",
       "      <th>4</th>\n",
       "      <td>5</td>\n",
       "      <td>1717377362356</td>\n",
       "      <td>./data/raw_screenshots/2024/06/03/com-android-...</td>\n",
       "      <td>com-android-systemui</td>\n",
       "    </tr>\n",
       "    <tr>\n",
       "      <th>...</th>\n",
       "      <td>...</td>\n",
       "      <td>...</td>\n",
       "      <td>...</td>\n",
       "      <td>...</td>\n",
       "    </tr>\n",
       "    <tr>\n",
       "      <th>52528</th>\n",
       "      <td>52529</td>\n",
       "      <td>1717517205755</td>\n",
       "      <td>/Users/connorparish/code/hindsight/hindsight_s...</td>\n",
       "      <td>com-google-android-inputmethod-latin</td>\n",
       "    </tr>\n",
       "    <tr>\n",
       "      <th>52529</th>\n",
       "      <td>52530</td>\n",
       "      <td>1717517135726</td>\n",
       "      <td>/Users/connorparish/code/hindsight/hindsight_s...</td>\n",
       "      <td>com-google-android-inputmethod-latin</td>\n",
       "    </tr>\n",
       "    <tr>\n",
       "      <th>52530</th>\n",
       "      <td>52531</td>\n",
       "      <td>1717517302534</td>\n",
       "      <td>/Users/connorparish/code/hindsight/hindsight_s...</td>\n",
       "      <td>com-whatsapp</td>\n",
       "    </tr>\n",
       "    <tr>\n",
       "      <th>52531</th>\n",
       "      <td>52532</td>\n",
       "      <td>1717517294309</td>\n",
       "      <td>/Users/connorparish/code/hindsight/hindsight_s...</td>\n",
       "      <td>com-whatsapp</td>\n",
       "    </tr>\n",
       "    <tr>\n",
       "      <th>52532</th>\n",
       "      <td>52533</td>\n",
       "      <td>1717515807644</td>\n",
       "      <td>/Users/connorparish/code/hindsight/hindsight_s...</td>\n",
       "      <td>com-google-android-ext-services</td>\n",
       "    </tr>\n",
       "  </tbody>\n",
       "</table>\n",
       "<p>52533 rows × 4 columns</p>\n",
       "</div>"
      ],
      "text/plain": [
       "          id      timestamp  \\\n",
       "0          1  1717377683566   \n",
       "1          2  1717377681460   \n",
       "2          3  1717377679352   \n",
       "3          4  1717377364406   \n",
       "4          5  1717377362356   \n",
       "...      ...            ...   \n",
       "52528  52529  1717517205755   \n",
       "52529  52530  1717517135726   \n",
       "52530  52531  1717517302534   \n",
       "52531  52532  1717517294309   \n",
       "52532  52533  1717515807644   \n",
       "\n",
       "                                                    path  \\\n",
       "0      ./data/raw_screenshots/2024/06/03/com-connor-h...   \n",
       "1      ./data/raw_screenshots/2024/06/03/com-google-a...   \n",
       "2      ./data/raw_screenshots/2024/06/03/com-google-a...   \n",
       "3      ./data/raw_screenshots/2024/06/03/com-google-a...   \n",
       "4      ./data/raw_screenshots/2024/06/03/com-android-...   \n",
       "...                                                  ...   \n",
       "52528  /Users/connorparish/code/hindsight/hindsight_s...   \n",
       "52529  /Users/connorparish/code/hindsight/hindsight_s...   \n",
       "52530  /Users/connorparish/code/hindsight/hindsight_s...   \n",
       "52531  /Users/connorparish/code/hindsight/hindsight_s...   \n",
       "52532  /Users/connorparish/code/hindsight/hindsight_s...   \n",
       "\n",
       "                                 application  \n",
       "0                       com-connor-hindsight  \n",
       "1      com-google-android-apps-nexuslauncher  \n",
       "2      com-google-android-apps-nexuslauncher  \n",
       "3      com-google-android-apps-nexuslauncher  \n",
       "4                       com-android-systemui  \n",
       "...                                      ...  \n",
       "52528   com-google-android-inputmethod-latin  \n",
       "52529   com-google-android-inputmethod-latin  \n",
       "52530                           com-whatsapp  \n",
       "52531                           com-whatsapp  \n",
       "52532        com-google-android-ext-services  \n",
       "\n",
       "[52533 rows x 4 columns]"
      ]
     },
     "execution_count": 20,
     "metadata": {},
     "output_type": "execute_result"
    }
   ],
   "source": [
    "frames"
   ]
  },
  {
   "cell_type": "code",
   "execution_count": 3,
   "metadata": {},
   "outputs": [],
   "source": [
    "frames_ocr = db.get_frames_with_ocr()"
   ]
  },
  {
   "cell_type": "code",
   "execution_count": 4,
   "metadata": {},
   "outputs": [
    {
     "data": {
      "text/plain": [
       "945589"
      ]
     },
     "execution_count": 4,
     "metadata": {},
     "output_type": "execute_result"
    }
   ],
   "source": [
    "len(frames_ocr)"
   ]
  },
  {
   "cell_type": "code",
   "execution_count": 5,
   "metadata": {},
   "outputs": [
    {
     "data": {
      "text/plain": [
       "50055"
      ]
     },
     "execution_count": 5,
     "metadata": {},
     "output_type": "execute_result"
    }
   ],
   "source": [
    "len(set(frames_ocr['frame_id']))"
   ]
  },
  {
   "cell_type": "code",
   "execution_count": 8,
   "metadata": {},
   "outputs": [
    {
     "data": {
      "text/html": [
       "<div>\n",
       "<style scoped>\n",
       "    .dataframe tbody tr th:only-of-type {\n",
       "        vertical-align: middle;\n",
       "    }\n",
       "\n",
       "    .dataframe tbody tr th {\n",
       "        vertical-align: top;\n",
       "    }\n",
       "\n",
       "    .dataframe thead th {\n",
       "        text-align: right;\n",
       "    }\n",
       "</style>\n",
       "<table border=\"1\" class=\"dataframe\">\n",
       "  <thead>\n",
       "    <tr style=\"text-align: right;\">\n",
       "      <th></th>\n",
       "      <th>id</th>\n",
       "      <th>timestamp</th>\n",
       "      <th>combined_text</th>\n",
       "      <th>datetime_utc</th>\n",
       "    </tr>\n",
       "  </thead>\n",
       "  <tbody>\n",
       "    <tr>\n",
       "      <th>285</th>\n",
       "      <td>24413</td>\n",
       "      <td>1717437048023</td>\n",
       "      <td>1:50 € Dan Levy Oh shit that sucks It was so g...</td>\n",
       "      <td>2024-06-03 17:50:48.023000002+00:00</td>\n",
       "    </tr>\n",
       "    <tr>\n",
       "      <th>320</th>\n",
       "      <td>24556</td>\n",
       "      <td>1717436006592</td>\n",
       "      <td>1:33 Messages 899000 That's great to hear! Wha...</td>\n",
       "      <td>2024-06-03 17:33:26.592000008+00:00</td>\n",
       "    </tr>\n",
       "    <tr>\n",
       "      <th>321</th>\n",
       "      <td>24602</td>\n",
       "      <td>1717434319103</td>\n",
       "      <td>1:05 /1 Messages 899000 That's great to hear! ...</td>\n",
       "      <td>2024-06-03 17:05:19.102999926+00:00</td>\n",
       "    </tr>\n",
       "    <tr>\n",
       "      <th>322</th>\n",
       "      <td>24713</td>\n",
       "      <td>1717431397157</td>\n",
       "      <td>12:16 Messages 900060005027 Verizon Msg: Here ...</td>\n",
       "      <td>2024-06-03 16:16:37.157000065+00:00</td>\n",
       "    </tr>\n",
       "    <tr>\n",
       "      <th>324</th>\n",
       "      <td>26524</td>\n",
       "      <td>1717344219082</td>\n",
       "      <td>12:03 1/ Dan Levy Give it a Star dickhead My b...</td>\n",
       "      <td>2024-06-02 16:03:39.082000017+00:00</td>\n",
       "    </tr>\n",
       "    <tr>\n",
       "      <th>...</th>\n",
       "      <td>...</td>\n",
       "      <td>...</td>\n",
       "      <td>...</td>\n",
       "      <td>...</td>\n",
       "    </tr>\n",
       "    <tr>\n",
       "      <th>270</th>\n",
       "      <td>22488</td>\n",
       "      <td>1715952708057</td>\n",
       "      <td>9:31 r 1• Messages S G S Sarah AKA my Main Hom...</td>\n",
       "      <td>2024-05-17 13:31:48.056999922+00:00</td>\n",
       "    </tr>\n",
       "    <tr>\n",
       "      <th>273</th>\n",
       "      <td>22588</td>\n",
       "      <td>1715916876187</td>\n",
       "      <td>11:34 5G 4• Messages Geoffrey Burns You: Aids ...</td>\n",
       "      <td>2024-05-17 03:34:36.187000036+00:00</td>\n",
       "    </tr>\n",
       "    <tr>\n",
       "      <th>598</th>\n",
       "      <td>48336</td>\n",
       "      <td>1715909907696</td>\n",
       "      <td>9:38 l• 5G A Messages Notifi never a up Contro...</td>\n",
       "      <td>2024-05-17 01:38:27.696000099+00:00</td>\n",
       "    </tr>\n",
       "    <tr>\n",
       "      <th>599</th>\n",
       "      <td>48441</td>\n",
       "      <td>1715907545724</td>\n",
       "      <td>8:59 5G A • Messages Kenny Bianchi You: 110 90...</td>\n",
       "      <td>2024-05-17 00:59:05.723999977+00:00</td>\n",
       "    </tr>\n",
       "    <tr>\n",
       "      <th>281</th>\n",
       "      <td>23262</td>\n",
       "      <td>1715895446558</td>\n",
       "      <td>5:37 1|1 Messages Kenny Bianchi You: 110 Now 9...</td>\n",
       "      <td>2024-05-16 21:37:26.558000088+00:00</td>\n",
       "    </tr>\n",
       "  </tbody>\n",
       "</table>\n",
       "<p>75 rows × 4 columns</p>\n",
       "</div>"
      ],
      "text/plain": [
       "        id      timestamp                                      combined_text  \\\n",
       "285  24413  1717437048023  1:50 € Dan Levy Oh shit that sucks It was so g...   \n",
       "320  24556  1717436006592  1:33 Messages 899000 That's great to hear! Wha...   \n",
       "321  24602  1717434319103  1:05 /1 Messages 899000 That's great to hear! ...   \n",
       "322  24713  1717431397157  12:16 Messages 900060005027 Verizon Msg: Here ...   \n",
       "324  26524  1717344219082  12:03 1/ Dan Levy Give it a Star dickhead My b...   \n",
       "..     ...            ...                                                ...   \n",
       "270  22488  1715952708057  9:31 r 1• Messages S G S Sarah AKA my Main Hom...   \n",
       "273  22588  1715916876187  11:34 5G 4• Messages Geoffrey Burns You: Aids ...   \n",
       "598  48336  1715909907696  9:38 l• 5G A Messages Notifi never a up Contro...   \n",
       "599  48441  1715907545724  8:59 5G A • Messages Kenny Bianchi You: 110 90...   \n",
       "281  23262  1715895446558  5:37 1|1 Messages Kenny Bianchi You: 110 Now 9...   \n",
       "\n",
       "                           datetime_utc  \n",
       "285 2024-06-03 17:50:48.023000002+00:00  \n",
       "320 2024-06-03 17:33:26.592000008+00:00  \n",
       "321 2024-06-03 17:05:19.102999926+00:00  \n",
       "322 2024-06-03 16:16:37.157000065+00:00  \n",
       "324 2024-06-02 16:03:39.082000017+00:00  \n",
       "..                                  ...  \n",
       "270 2024-05-17 13:31:48.056999922+00:00  \n",
       "273 2024-05-17 03:34:36.187000036+00:00  \n",
       "598 2024-05-17 01:38:27.696000099+00:00  \n",
       "599 2024-05-17 00:59:05.723999977+00:00  \n",
       "281 2024-05-16 21:37:26.558000088+00:00  \n",
       "\n",
       "[75 rows x 4 columns]"
      ]
     },
     "execution_count": 8,
     "metadata": {},
     "output_type": "execute_result"
    }
   ],
   "source": [
    "db.search_text(\"dan levy\", n_seconds=1000)"
   ]
  },
  {
   "cell_type": "code",
   "execution_count": null,
   "metadata": {},
   "outputs": [],
   "source": []
  }
 ],
 "metadata": {
  "kernelspec": {
   "display_name": "hindsight_exp",
   "language": "python",
   "name": "python3"
  },
  "language_info": {
   "codemirror_mode": {
    "name": "ipython",
    "version": 3
   },
   "file_extension": ".py",
   "mimetype": "text/x-python",
   "name": "python",
   "nbconvert_exporter": "python",
   "pygments_lexer": "ipython3",
   "version": "3.9.18"
  }
 },
 "nbformat": 4,
 "nbformat_minor": 2
}
