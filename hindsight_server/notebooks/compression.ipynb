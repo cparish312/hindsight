{
 "cells": [
  {
   "cell_type": "code",
   "execution_count": null,
   "metadata": {},
   "outputs": [],
   "source": [
    "import os\n",
    "import sys\n",
    "import subprocess\n",
    "\n",
    "sys.path.insert(0, \"/Users/connorparish/code/hindsight\")\n",
    "\n",
    "from hindsight_server.db import HindsightDB\n",
    "from hindsight_server.utils import add_datetimes\n",
    "from hindsight_server.config import VIDEO_FILES_DIR"
   ]
  },
  {
   "cell_type": "code",
   "execution_count": null,
   "metadata": {},
   "outputs": [],
   "source": [
    "db = HindsightDB()"
   ]
  },
  {
   "cell_type": "code",
   "execution_count": null,
   "metadata": {},
   "outputs": [],
   "source": [
    "video_chunks = db.get_video_chunks()"
   ]
  },
  {
   "cell_type": "code",
   "execution_count": null,
   "metadata": {},
   "outputs": [],
   "source": [
    "frames = db.get_frames(impute_applications=False)"
   ]
  },
  {
   "cell_type": "code",
   "execution_count": null,
   "metadata": {},
   "outputs": [],
   "source": [
    "frames = frames.loc[frames['video_chunk_id'].isnull()]"
   ]
  },
  {
   "cell_type": "code",
   "execution_count": null,
   "metadata": {},
   "outputs": [],
   "source": [
    "frames = frames.loc[~frames['application'].isin([\"backCamera\", \"frontCamera\"])]"
   ]
  },
  {
   "cell_type": "code",
   "execution_count": null,
   "metadata": {},
   "outputs": [],
   "source": [
    "frames = add_datetimes(frames)"
   ]
  },
  {
   "cell_type": "code",
   "execution_count": null,
   "metadata": {},
   "outputs": [],
   "source": [
    "def get_video_path(row):\n",
    "    formatted_date = row['datetime_utc'].strftime(\"%Y%m%d\")\n",
    "    return os.path.join(VIDEO_FILES_DIR, f\"{row['application_org']}_{formatted_date}_og.mp4\")\n",
    "frames[\"video_path\"] = frames.apply(lambda row: get_video_path(row), axis=1)"
   ]
  },
  {
   "cell_type": "code",
   "execution_count": null,
   "metadata": {},
   "outputs": [],
   "source": [
    "frames = frames.sort_values(by=\"timestamp\", ascending=True)"
   ]
  },
  {
   "cell_type": "code",
   "execution_count": null,
   "metadata": {},
   "outputs": [],
   "source": [
    "def compress_images_to_mp4(image_files, output_file, fps=0.5):\n",
    "    \"\"\"\n",
    "    Compress a list of .jpg files into an MP4 video using the H.264 codec.\n",
    "    \n",
    "    Args:\n",
    "        image_files (list): List of paths to .jpg image files.\n",
    "        output_file (str): Path to the output .mp4 file.\n",
    "        fps (int): Frames per second for the video.\n",
    "    \"\"\"\n",
    "    if not image_files:\n",
    "        raise ValueError(\"The image_files list is empty.\")\n",
    "    \n",
    "    # Ensure the output directory exists\n",
    "    output_dir = os.path.dirname(output_file)\n",
    "    if output_dir and not os.path.exists(output_dir):\n",
    "        os.makedirs(output_dir)\n",
    "\n",
    "    # Create a temporary file list for ffmpeg\n",
    "    temp_file_list = \"temp_file_list.txt\"\n",
    "    with open(temp_file_list, \"w\") as file:\n",
    "        for image in image_files:\n",
    "            file.write(f\"file '{os.path.abspath(image)}'\\n\")\n",
    "\n",
    "    success = False\n",
    "    try:\n",
    "        # Construct the ffmpeg command\n",
    "        command = [\n",
    "            \"ffmpeg\",\n",
    "            \"-y\",  # Overwrite output file if it exists\n",
    "            \"-f\", \"concat\",  # Input format\n",
    "            \"-safe\", \"0\",  # Enable safe file paths\n",
    "            \"-r\", str(fps),  # Frames per second\n",
    "            \"-i\", temp_file_list,  # Input file list\n",
    "            \"-c:v\", \"libx264\",  # Video codec\n",
    "            \"-pix_fmt\", \"yuv420p\",  # Pixel format for compatibility\n",
    "            output_file  # Output file\n",
    "        ]\n",
    "\n",
    "        # Run the ffmpeg command\n",
    "        subprocess.run(command, check=True)\n",
    "        print(f\"Video successfully created at: {output_file}\")\n",
    "        if os.path.exists(output_file) and os.path.getsize(output_file) > 1000:\n",
    "            success = True\n",
    "    except subprocess.CalledProcessError as e:\n",
    "        print(f\"Error occurred while creating the video: {e}\")\n",
    "        success = False\n",
    "    finally:\n",
    "        # Clean up the temporary file list\n",
    "        if os.path.exists(temp_file_list):\n",
    "            os.remove(temp_file_list)\n",
    "        return success"
   ]
  },
  {
   "cell_type": "code",
   "execution_count": null,
   "metadata": {},
   "outputs": [],
   "source": [
    "vc_count = 0\n",
    "successful_list = list()\n",
    "for video_path in frames.video_path.unique():\n",
    "    if os.path.exists(video_path):\n",
    "        print(video_path, \"already exists\")\n",
    "        continue\n",
    "    # if vc_count > 1000:\n",
    "    #     break\n",
    "    video_path_df = frames.loc[frames['video_path'] == video_path]\n",
    "    video_path_df = video_path_df.sort_values(by=\"timestamp\", ascending=True)\n",
    "    print(len(video_path_df))\n",
    "    success = compress_images_to_mp4(list(video_path_df['path']), video_path)\n",
    "    successful_list.append(success)\n",
    "    if success:\n",
    "        video_chunk_id = db.insert_video_chunk(video_path)\n",
    "        db.update_video_chunk_info(video_chunk_id=video_chunk_id, frame_ids=list(video_path_df['id']))\n",
    "        for f in list(video_path_df['path']):\n",
    "            if os.path.exists(f):\n",
    "                os.remove(f)\n",
    "                print(f\"Deleted {f}\")\n",
    "        vc_count += 1"
   ]
  },
  {
   "cell_type": "code",
   "execution_count": null,
   "metadata": {},
   "outputs": [],
   "source": []
  }
 ],
 "metadata": {
  "kernelspec": {
   "display_name": "hindsight_server",
   "language": "python",
   "name": "python3"
  },
  "language_info": {
   "codemirror_mode": {
    "name": "ipython",
    "version": 3
   },
   "file_extension": ".py",
   "mimetype": "text/x-python",
   "name": "python",
   "nbconvert_exporter": "python",
   "pygments_lexer": "ipython3",
   "version": "3.10.14"
  }
 },
 "nbformat": 4,
 "nbformat_minor": 2
}
