{
 "cells": [
  {
   "cell_type": "markdown",
   "metadata": {},
   "source": [
    "# Notebook for looking at recorded phone usage\n"
   ]
  },
  {
   "cell_type": "code",
   "execution_count": 2,
   "metadata": {},
   "outputs": [],
   "source": [
    "import os\n",
    "import sys\n",
    "import glob\n",
    "import pandas as pd\n",
    "\n",
    "import tzlocal\n",
    "from zoneinfo import ZoneInfo\n",
    "from datetime import timedelta\n",
    "\n",
    "sys.path.insert(0, \"../\")\n",
    "from db import HindsightDB\n",
    "import utils"
   ]
  },
  {
   "cell_type": "code",
   "execution_count": 3,
   "metadata": {},
   "outputs": [],
   "source": [
    "db = HindsightDB()"
   ]
  },
  {
   "cell_type": "code",
   "execution_count": 16,
   "metadata": {},
   "outputs": [],
   "source": [
    "frames_df = db.get_frames()\n",
    "frames_df = utils.add_datetimes(frames_df)\n",
    "frames_df = frames_df.sort_values(by='datetime_local')"
   ]
  },
  {
   "cell_type": "code",
   "execution_count": 17,
   "metadata": {},
   "outputs": [
    {
     "data": {
      "text/plain": [
       "{'android',\n",
       " 'co-hinge-app',\n",
       " 'com-americanexpress-android-acctsvcs-us',\n",
       " 'com-android-chrome',\n",
       " 'com-android-intentresolver',\n",
       " 'com-android-phone',\n",
       " 'com-android-pixeldisplayservice',\n",
       " 'com-android-settings',\n",
       " 'com-android-systemui',\n",
       " 'com-android-vending',\n",
       " 'com-chase-sig-android',\n",
       " 'com-connor-hindsight',\n",
       " 'com-discoverfinancial-mobile',\n",
       " 'com-facebook-katana',\n",
       " 'com-fidelity-android',\n",
       " 'com-github-android',\n",
       " 'com-google-android-GoogleCamera',\n",
       " 'com-google-android-apps-chromecast-app',\n",
       " 'com-google-android-apps-docs-editors-docs',\n",
       " 'com-google-android-apps-maps',\n",
       " 'com-google-android-apps-messaging',\n",
       " 'com-google-android-apps-nexuslauncher',\n",
       " 'com-google-android-apps-photos',\n",
       " 'com-google-android-apps-recorder',\n",
       " 'com-google-android-apps-tachyon',\n",
       " 'com-google-android-apps-wellbeing',\n",
       " 'com-google-android-as',\n",
       " 'com-google-android-calculator',\n",
       " 'com-google-android-contacts',\n",
       " 'com-google-android-deskclock',\n",
       " 'com-google-android-dialer',\n",
       " 'com-google-android-ext-services',\n",
       " 'com-google-android-gm',\n",
       " 'com-google-android-gms',\n",
       " 'com-google-android-googlequicksearchbox',\n",
       " 'com-google-android-inputmethod-latin',\n",
       " 'com-google-android-markup',\n",
       " 'com-google-android-providers-media-module',\n",
       " 'com-google-android-youtube',\n",
       " 'com-infonow-bofa',\n",
       " 'com-instagram-android',\n",
       " 'com-key-android',\n",
       " 'com-linkedin-android',\n",
       " 'com-mobile3',\n",
       " 'com-onepassword-android',\n",
       " 'com-reddit-frontpage',\n",
       " 'com-robinhood-android',\n",
       " 'com-snapchat-android',\n",
       " 'com-soundcloud-android',\n",
       " 'com-spotify-music',\n",
       " 'com-twitter-android',\n",
       " 'com-ubercab',\n",
       " 'com-venmo',\n",
       " 'com-whatsapp',\n",
       " 'com-windalert-android-ikitesurf',\n",
       " 'screenshot'}"
      ]
     },
     "execution_count": 17,
     "metadata": {},
     "output_type": "execute_result"
    }
   ],
   "source": [
    "set(frames_df['application'])"
   ]
  },
  {
   "cell_type": "code",
   "execution_count": 18,
   "metadata": {},
   "outputs": [],
   "source": [
    "frames_df = frames_df.loc[frames_df['application'] != 'com-android-systemui'] # Lines up better with phone"
   ]
  },
  {
   "cell_type": "code",
   "execution_count": 19,
   "metadata": {},
   "outputs": [],
   "source": [
    "frames_df['time_difference'] = frames_df['datetime_local'].diff()"
   ]
  },
  {
   "cell_type": "code",
   "execution_count": 20,
   "metadata": {},
   "outputs": [],
   "source": [
    "new_usage_threshold = timedelta(seconds=120)\n",
    "new_usage_start = (frames_df['time_difference'] > new_usage_threshold)\n",
    "frames_df['usage_id'] = new_usage_start.cumsum()"
   ]
  },
  {
   "cell_type": "code",
   "execution_count": 21,
   "metadata": {},
   "outputs": [],
   "source": [
    "frames_df['datetime_to_day'] = frames_df['datetime_local'].dt.floor('D')"
   ]
  },
  {
   "cell_type": "code",
   "execution_count": 23,
   "metadata": {},
   "outputs": [
    {
     "data": {
      "text/plain": [
       "datetime_to_day\n",
       "2024-05-14 00:00:00-04:00    10\n",
       "2024-05-15 00:00:00-04:00    13\n",
       "2024-05-16 00:00:00-04:00    50\n",
       "2024-05-17 00:00:00-04:00    50\n",
       "2024-05-18 00:00:00-04:00    64\n",
       "2024-05-19 00:00:00-04:00    41\n",
       "2024-05-20 00:00:00-04:00    60\n",
       "2024-05-21 00:00:00-04:00    51\n",
       "2024-05-22 00:00:00-04:00    45\n",
       "2024-05-23 00:00:00-04:00    41\n",
       "2024-05-24 00:00:00-04:00    14\n",
       "2024-05-25 00:00:00-04:00    22\n",
       "2024-05-26 00:00:00-04:00     6\n",
       "2024-05-27 00:00:00-04:00     6\n",
       "2024-05-28 00:00:00-04:00    31\n",
       "2024-05-29 00:00:00-04:00    18\n",
       "2024-05-30 00:00:00-04:00    31\n",
       "2024-05-31 00:00:00-04:00    32\n",
       "2024-06-01 00:00:00-04:00    28\n",
       "2024-06-02 00:00:00-04:00    39\n",
       "2024-06-03 00:00:00-04:00    70\n",
       "2024-06-04 00:00:00-04:00    75\n",
       "2024-06-05 00:00:00-04:00    44\n",
       "Name: usage_id, dtype: int64"
      ]
     },
     "execution_count": 23,
     "metadata": {},
     "output_type": "execute_result"
    }
   ],
   "source": [
    "frames_df.groupby(['datetime_to_day']).usage_id.nunique()"
   ]
  },
  {
   "cell_type": "code",
   "execution_count": 24,
   "metadata": {},
   "outputs": [
    {
     "name": "stderr",
     "output_type": "stream",
     "text": [
      "/var/folders/c_/2c9vmfhd35bgwc_6h0q80d180000gn/T/ipykernel_33218/410602690.py:1: FutureWarning: The provided callable <built-in function min> is currently using SeriesGroupBy.min. In a future version of pandas, the provided callable will be used directly. To keep current behavior pass the string \"min\" instead.\n",
      "  usage_durations = frames_df.groupby('usage_id')['datetime_local'].agg([min, max])\n",
      "/var/folders/c_/2c9vmfhd35bgwc_6h0q80d180000gn/T/ipykernel_33218/410602690.py:1: FutureWarning: The provided callable <built-in function max> is currently using SeriesGroupBy.max. In a future version of pandas, the provided callable will be used directly. To keep current behavior pass the string \"max\" instead.\n",
      "  usage_durations = frames_df.groupby('usage_id')['datetime_local'].agg([min, max])\n"
     ]
    }
   ],
   "source": [
    "usage_durations = frames_df.groupby('usage_id')['datetime_local'].agg([min, max])\n",
    "usage_durations['duration'] = usage_durations['max'] - usage_durations['min']\n",
    "usage_durations['day'] = usage_durations['min'].dt.floor('D')"
   ]
  },
  {
   "cell_type": "code",
   "execution_count": 25,
   "metadata": {},
   "outputs": [
    {
     "data": {
      "text/plain": [
       "day\n",
       "2024-05-14 00:00:00-04:00   0 days 00:07:51.997000219\n",
       "2024-05-15 00:00:00-04:00   0 days 00:37:17.220000507\n",
       "2024-05-16 00:00:00-04:00   0 days 01:55:45.473000772\n",
       "2024-05-17 00:00:00-04:00   0 days 01:49:18.412001131\n",
       "2024-05-18 00:00:00-04:00   0 days 01:41:29.695998193\n",
       "2024-05-19 00:00:00-04:00   0 days 01:16:05.827998876\n",
       "2024-05-20 00:00:00-04:00   0 days 02:23:03.849999902\n",
       "2024-05-21 00:00:00-04:00   0 days 01:29:33.749000064\n",
       "2024-05-22 00:00:00-04:00   0 days 01:35:20.889999869\n",
       "2024-05-23 00:00:00-04:00   0 days 03:22:15.644998547\n",
       "2024-05-24 00:00:00-04:00   0 days 00:13:07.250000003\n",
       "2024-05-25 00:00:00-04:00   0 days 00:53:03.009000059\n",
       "2024-05-26 00:00:00-04:00   0 days 00:19:09.561999559\n",
       "2024-05-27 00:00:00-04:00   0 days 00:14:35.391000031\n",
       "2024-05-28 00:00:00-04:00   0 days 01:55:30.561999322\n",
       "2024-05-29 00:00:00-04:00   0 days 00:15:30.025000332\n",
       "2024-05-30 00:00:00-04:00   0 days 00:48:49.154999974\n",
       "2024-05-31 00:00:00-04:00   0 days 00:46:40.722999808\n",
       "2024-06-01 00:00:00-04:00   0 days 00:41:43.266999724\n",
       "2024-06-02 00:00:00-04:00   0 days 01:13:13.739000556\n",
       "2024-06-03 00:00:00-04:00   0 days 01:59:19.620000608\n",
       "2024-06-04 00:00:00-04:00   0 days 04:02:28.906998629\n",
       "2024-06-05 00:00:00-04:00   0 days 01:58:07.372001411\n",
       "Name: duration, dtype: timedelta64[ns]"
      ]
     },
     "execution_count": 25,
     "metadata": {},
     "output_type": "execute_result"
    }
   ],
   "source": [
    "usage_durations.groupby(['day']).duration.sum()"
   ]
  },
  {
   "cell_type": "code",
   "execution_count": 26,
   "metadata": {},
   "outputs": [
    {
     "data": {
      "text/plain": [
       "Timedelta('1 days 07:39:21.341998096')"
      ]
     },
     "execution_count": 26,
     "metadata": {},
     "output_type": "execute_result"
    }
   ],
   "source": [
    "usage_durations.duration.sum()"
   ]
  },
  {
   "cell_type": "code",
   "execution_count": null,
   "metadata": {},
   "outputs": [],
   "source": []
  }
 ],
 "metadata": {
  "kernelspec": {
   "display_name": "hindsight",
   "language": "python",
   "name": "python3"
  },
  "language_info": {
   "codemirror_mode": {
    "name": "ipython",
    "version": 3
   },
   "file_extension": ".py",
   "mimetype": "text/x-python",
   "name": "python",
   "nbconvert_exporter": "python",
   "pygments_lexer": "ipython3",
   "version": "3.9.18"
  }
 },
 "nbformat": 4,
 "nbformat_minor": 2
}
