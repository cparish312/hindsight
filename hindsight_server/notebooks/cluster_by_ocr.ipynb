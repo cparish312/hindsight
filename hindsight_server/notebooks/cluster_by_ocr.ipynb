{
 "cells": [
  {
   "cell_type": "markdown",
   "metadata": {},
   "source": [
    "# Notebook for testing clustering by ocr results including locations"
   ]
  },
  {
   "cell_type": "code",
   "execution_count": 28,
   "metadata": {},
   "outputs": [],
   "source": [
    "import sys\n",
    "import cv2\n",
    "import numpy as np\n",
    "import pandas as pd\n",
    "\n",
    "sys.path.insert(0, \"../\")\n",
    "from db import HindsightDB\n",
    "import utils\n",
    "import matplotlib.pyplot as plt\n",
    "\n",
    "from scipy.cluster.hierarchy import linkage, dendrogram\n",
    "import matplotlib.pyplot as plt"
   ]
  },
  {
   "cell_type": "code",
   "execution_count": 2,
   "metadata": {},
   "outputs": [],
   "source": [
    "db = HindsightDB()"
   ]
  },
  {
   "cell_type": "code",
   "execution_count": 3,
   "metadata": {},
   "outputs": [],
   "source": [
    "frames = db.get_frames(impute_applications=False)\n",
    "frames = utils.add_datetimes(frames)\n",
    "frames = frames.sort_values(by='datetime_local', ascending=False)"
   ]
  },
  {
   "cell_type": "code",
   "execution_count": 4,
   "metadata": {},
   "outputs": [],
   "source": [
    "df = frames.loc[frames['application'] == 'Whatsapp']"
   ]
  },
  {
   "cell_type": "code",
   "execution_count": 5,
   "metadata": {},
   "outputs": [
    {
     "data": {
      "text/plain": [
       "3180"
      ]
     },
     "execution_count": 5,
     "metadata": {},
     "output_type": "execute_result"
    }
   ],
   "source": [
    "len(df)"
   ]
  },
  {
   "cell_type": "code",
   "execution_count": 16,
   "metadata": {},
   "outputs": [],
   "source": [
    "ocr_res = db.get_frames_with_ocr(frame_ids=set(df['id']))\n",
    "for c in ['x', 'y', 'w', 'h']:\n",
    "    ocr_res[c] = ocr_res[c].round()"
   ]
  },
  {
   "cell_type": "code",
   "execution_count": 17,
   "metadata": {},
   "outputs": [
    {
     "data": {
      "text/html": [
       "<div>\n",
       "<style scoped>\n",
       "    .dataframe tbody tr th:only-of-type {\n",
       "        vertical-align: middle;\n",
       "    }\n",
       "\n",
       "    .dataframe tbody tr th {\n",
       "        vertical-align: top;\n",
       "    }\n",
       "\n",
       "    .dataframe thead th {\n",
       "        text-align: right;\n",
       "    }\n",
       "</style>\n",
       "<table border=\"1\" class=\"dataframe\">\n",
       "  <thead>\n",
       "    <tr style=\"text-align: right;\">\n",
       "      <th></th>\n",
       "      <th>frame_id</th>\n",
       "      <th>timestamp</th>\n",
       "      <th>path</th>\n",
       "      <th>application</th>\n",
       "      <th>x</th>\n",
       "      <th>y</th>\n",
       "      <th>w</th>\n",
       "      <th>h</th>\n",
       "      <th>text</th>\n",
       "      <th>conf</th>\n",
       "    </tr>\n",
       "  </thead>\n",
       "  <tbody>\n",
       "    <tr>\n",
       "      <th>0</th>\n",
       "      <td>4617</td>\n",
       "      <td>1717078789363</td>\n",
       "      <td>./data/raw_screenshots/2024/05/30/com-whatsapp...</td>\n",
       "      <td>com-whatsapp</td>\n",
       "      <td>31.0</td>\n",
       "      <td>659.0</td>\n",
       "      <td>52.0</td>\n",
       "      <td>35.0</td>\n",
       "      <td>CV</td>\n",
       "      <td>0.3</td>\n",
       "    </tr>\n",
       "    <tr>\n",
       "      <th>1</th>\n",
       "      <td>4617</td>\n",
       "      <td>1717078789363</td>\n",
       "      <td>./data/raw_screenshots/2024/05/30/com-whatsapp...</td>\n",
       "      <td>com-whatsapp</td>\n",
       "      <td>118.0</td>\n",
       "      <td>52.0</td>\n",
       "      <td>91.0</td>\n",
       "      <td>35.0</td>\n",
       "      <td>10:19</td>\n",
       "      <td>1.0</td>\n",
       "    </tr>\n",
       "    <tr>\n",
       "      <th>2</th>\n",
       "      <td>4617</td>\n",
       "      <td>1717078789363</td>\n",
       "      <td>./data/raw_screenshots/2024/05/30/com-whatsapp...</td>\n",
       "      <td>com-whatsapp</td>\n",
       "      <td>188.0</td>\n",
       "      <td>162.0</td>\n",
       "      <td>241.0</td>\n",
       "      <td>46.0</td>\n",
       "      <td>Parish chat</td>\n",
       "      <td>1.0</td>\n",
       "    </tr>\n",
       "    <tr>\n",
       "      <th>3</th>\n",
       "      <td>4617</td>\n",
       "      <td>1717078789363</td>\n",
       "      <td>./data/raw_screenshots/2024/05/30/com-whatsapp...</td>\n",
       "      <td>com-whatsapp</td>\n",
       "      <td>188.0</td>\n",
       "      <td>223.0</td>\n",
       "      <td>513.0</td>\n",
       "      <td>39.0</td>\n",
       "      <td>Cate, Colleen, David, Piers, Sarah,...</td>\n",
       "      <td>1.0</td>\n",
       "    </tr>\n",
       "    <tr>\n",
       "      <th>4</th>\n",
       "      <td>4617</td>\n",
       "      <td>1717078789363</td>\n",
       "      <td>./data/raw_screenshots/2024/05/30/com-whatsapp...</td>\n",
       "      <td>com-whatsapp</td>\n",
       "      <td>143.0</td>\n",
       "      <td>303.0</td>\n",
       "      <td>234.0</td>\n",
       "      <td>32.0</td>\n",
       "      <td>Colleen Burns</td>\n",
       "      <td>1.0</td>\n",
       "    </tr>\n",
       "    <tr>\n",
       "      <th>...</th>\n",
       "      <td>...</td>\n",
       "      <td>...</td>\n",
       "      <td>...</td>\n",
       "      <td>...</td>\n",
       "      <td>...</td>\n",
       "      <td>...</td>\n",
       "      <td>...</td>\n",
       "      <td>...</td>\n",
       "      <td>...</td>\n",
       "      <td>...</td>\n",
       "    </tr>\n",
       "    <tr>\n",
       "      <th>109650</th>\n",
       "      <td>201384</td>\n",
       "      <td>1721218713326</td>\n",
       "      <td>/Users/connorparish/code/hindsight/hindsight_s...</td>\n",
       "      <td>com-whatsapp</td>\n",
       "      <td>394.0</td>\n",
       "      <td>1950.0</td>\n",
       "      <td>289.0</td>\n",
       "      <td>38.0</td>\n",
       "      <td>1 Unread Message</td>\n",
       "      <td>1.0</td>\n",
       "    </tr>\n",
       "    <tr>\n",
       "      <th>109651</th>\n",
       "      <td>201384</td>\n",
       "      <td>1721218713326</td>\n",
       "      <td>/Users/connorparish/code/hindsight/hindsight_s...</td>\n",
       "      <td>com-whatsapp</td>\n",
       "      <td>143.0</td>\n",
       "      <td>2065.0</td>\n",
       "      <td>234.0</td>\n",
       "      <td>35.0</td>\n",
       "      <td>Colleen Burns</td>\n",
       "      <td>1.0</td>\n",
       "    </tr>\n",
       "    <tr>\n",
       "      <th>109652</th>\n",
       "      <td>201384</td>\n",
       "      <td>1721218713326</td>\n",
       "      <td>/Users/connorparish/code/hindsight/hindsight_s...</td>\n",
       "      <td>com-whatsapp</td>\n",
       "      <td>143.0</td>\n",
       "      <td>2114.0</td>\n",
       "      <td>122.0</td>\n",
       "      <td>45.0</td>\n",
       "      <td>Crazy!</td>\n",
       "      <td>1.0</td>\n",
       "    </tr>\n",
       "    <tr>\n",
       "      <th>109653</th>\n",
       "      <td>201384</td>\n",
       "      <td>1721218713326</td>\n",
       "      <td>/Users/connorparish/code/hindsight/hindsight_s...</td>\n",
       "      <td>com-whatsapp</td>\n",
       "      <td>279.0</td>\n",
       "      <td>2137.0</td>\n",
       "      <td>140.0</td>\n",
       "      <td>34.0</td>\n",
       "      <td>9:24 PM</td>\n",
       "      <td>1.0</td>\n",
       "    </tr>\n",
       "    <tr>\n",
       "      <th>109654</th>\n",
       "      <td>201384</td>\n",
       "      <td>1721218713326</td>\n",
       "      <td>/Users/connorparish/code/hindsight/hindsight_s...</td>\n",
       "      <td>com-whatsapp</td>\n",
       "      <td>125.0</td>\n",
       "      <td>2245.0</td>\n",
       "      <td>197.0</td>\n",
       "      <td>47.0</td>\n",
       "      <td>Message</td>\n",
       "      <td>1.0</td>\n",
       "    </tr>\n",
       "  </tbody>\n",
       "</table>\n",
       "<p>109655 rows × 10 columns</p>\n",
       "</div>"
      ],
      "text/plain": [
       "        frame_id      timestamp  \\\n",
       "0           4617  1717078789363   \n",
       "1           4617  1717078789363   \n",
       "2           4617  1717078789363   \n",
       "3           4617  1717078789363   \n",
       "4           4617  1717078789363   \n",
       "...          ...            ...   \n",
       "109650    201384  1721218713326   \n",
       "109651    201384  1721218713326   \n",
       "109652    201384  1721218713326   \n",
       "109653    201384  1721218713326   \n",
       "109654    201384  1721218713326   \n",
       "\n",
       "                                                     path   application  \\\n",
       "0       ./data/raw_screenshots/2024/05/30/com-whatsapp...  com-whatsapp   \n",
       "1       ./data/raw_screenshots/2024/05/30/com-whatsapp...  com-whatsapp   \n",
       "2       ./data/raw_screenshots/2024/05/30/com-whatsapp...  com-whatsapp   \n",
       "3       ./data/raw_screenshots/2024/05/30/com-whatsapp...  com-whatsapp   \n",
       "4       ./data/raw_screenshots/2024/05/30/com-whatsapp...  com-whatsapp   \n",
       "...                                                   ...           ...   \n",
       "109650  /Users/connorparish/code/hindsight/hindsight_s...  com-whatsapp   \n",
       "109651  /Users/connorparish/code/hindsight/hindsight_s...  com-whatsapp   \n",
       "109652  /Users/connorparish/code/hindsight/hindsight_s...  com-whatsapp   \n",
       "109653  /Users/connorparish/code/hindsight/hindsight_s...  com-whatsapp   \n",
       "109654  /Users/connorparish/code/hindsight/hindsight_s...  com-whatsapp   \n",
       "\n",
       "            x       y      w     h                                    text  \\\n",
       "0        31.0   659.0   52.0  35.0                                      CV   \n",
       "1       118.0    52.0   91.0  35.0                                   10:19   \n",
       "2       188.0   162.0  241.0  46.0                             Parish chat   \n",
       "3       188.0   223.0  513.0  39.0  Cate, Colleen, David, Piers, Sarah,...   \n",
       "4       143.0   303.0  234.0  32.0                           Colleen Burns   \n",
       "...       ...     ...    ...   ...                                     ...   \n",
       "109650  394.0  1950.0  289.0  38.0                        1 Unread Message   \n",
       "109651  143.0  2065.0  234.0  35.0                           Colleen Burns   \n",
       "109652  143.0  2114.0  122.0  45.0                                  Crazy!   \n",
       "109653  279.0  2137.0  140.0  34.0                                 9:24 PM   \n",
       "109654  125.0  2245.0  197.0  47.0                                 Message   \n",
       "\n",
       "        conf  \n",
       "0        0.3  \n",
       "1        1.0  \n",
       "2        1.0  \n",
       "3        1.0  \n",
       "4        1.0  \n",
       "...      ...  \n",
       "109650   1.0  \n",
       "109651   1.0  \n",
       "109652   1.0  \n",
       "109653   1.0  \n",
       "109654   1.0  \n",
       "\n",
       "[109655 rows x 10 columns]"
      ]
     },
     "execution_count": 17,
     "metadata": {},
     "output_type": "execute_result"
    }
   ],
   "source": [
    "ocr_res"
   ]
  },
  {
   "cell_type": "code",
   "execution_count": 21,
   "metadata": {},
   "outputs": [],
   "source": [
    "ocr_res['text_box'] = ocr_res.apply(lambda row: (row['text'], row['x'], row['y']), axis=1)"
   ]
  },
  {
   "cell_type": "code",
   "execution_count": 22,
   "metadata": {},
   "outputs": [
    {
     "data": {
      "text/plain": [
       "43442"
      ]
     },
     "execution_count": 22,
     "metadata": {},
     "output_type": "execute_result"
    }
   ],
   "source": [
    "len(set(ocr_res['text_box']))"
   ]
  },
  {
   "cell_type": "code",
   "execution_count": 20,
   "metadata": {},
   "outputs": [
    {
     "data": {
      "text/plain": [
       "109655"
      ]
     },
     "execution_count": 20,
     "metadata": {},
     "output_type": "execute_result"
    }
   ],
   "source": [
    "len(ocr_res)"
   ]
  },
  {
   "cell_type": "code",
   "execution_count": 24,
   "metadata": {},
   "outputs": [],
   "source": [
    "item_sets = ocr_res.groupby('frame_id')['text_box'].apply(set).to_dict()"
   ]
  },
  {
   "cell_type": "code",
   "execution_count": 32,
   "metadata": {},
   "outputs": [],
   "source": [
    "frame_ids = list(item_sets.keys())\n",
    "n = len(frame_ids)\n",
    "similarity_matrix = np.zeros((n, n))\n",
    "\n",
    "for i in range(n):\n",
    "    for j in range(n):\n",
    "        if i != j:\n",
    "            intersection = len(item_sets[frame_ids[i]].intersection(item_sets[frame_ids[j]]))\n",
    "            # similarity_matrix[i, j] = intersection\n",
    "            union = len(item_sets[frame_ids[i]].union(item_sets[frame_ids[j]]))\n",
    "            similarity_matrix[i, j] = intersection / union if union != 0 else 0"
   ]
  },
  {
   "cell_type": "code",
   "execution_count": 33,
   "metadata": {},
   "outputs": [
    {
     "name": "stderr",
     "output_type": "stream",
     "text": [
      "/var/folders/c_/2c9vmfhd35bgwc_6h0q80d180000gn/T/ipykernel_18287/3899987403.py:2: ClusterWarning: The symmetric non-negative hollow observation matrix looks suspiciously like an uncondensed distance matrix\n",
      "  Z = linkage(similarity_matrix, method='average')\n"
     ]
    },
    {
     "data": {
      "image/png": "[encoded data removed]",
      "text/plain": [
       "<Figure size 640x480 with 1 Axes>"
      ]
     },
     "metadata": {},
     "output_type": "display_data"
    }
   ],
   "source": [
    "distance_matrx = 1 - similarity_matrix\n",
    "\n",
    "# Perform hierarchical clustering\n",
    "Z = linkage(similarity_matrix, method='average')\n",
    "\n",
    "# Plot dendrogram\n",
    "dendrogram(Z, labels=frame_ids)\n",
    "plt.title('Hierarchical Clustering Dendrogram')\n",
    "plt.xlabel('frame_id')\n",
    "plt.ylabel('Distance')\n",
    "plt.show()"
   ]
  },
  {
   "cell_type": "code",
   "execution_count": null,
   "metadata": {},
   "outputs": [],
   "source": []
  }
 ],
 "metadata": {
  "kernelspec": {
   "display_name": "hindsight_exp",
   "language": "python",
   "name": "python3"
  },
  "language_info": {
   "codemirror_mode": {
    "name": "ipython",
    "version": 3
   },
   "file_extension": ".py",
   "mimetype": "text/x-python",
   "name": "python",
   "nbconvert_exporter": "python",
   "pygments_lexer": "ipython3",
   "version": "3.9.18"
  }
 },
 "nbformat": 4,
 "nbformat_minor": 2
}
