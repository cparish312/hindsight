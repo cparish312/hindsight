{
 "cells": [
  {
   "cell_type": "markdown",
   "metadata": {},
   "source": [
    "# Attempting to run a local swarm"
   ]
  },
  {
   "cell_type": "code",
   "execution_count": 1,
   "metadata": {},
   "outputs": [
    {
     "name": "stderr",
     "output_type": "stream",
     "text": [
      "/Users/connorparish/miniconda3/envs/hindsight_server/lib/python3.10/site-packages/tqdm/auto.py:21: TqdmWarning: IProgress not found. Please update jupyter and ipywidgets. See https://ipywidgets.readthedocs.io/en/stable/user_install.html\n",
      "  from .autonotebook import tqdm as notebook_tqdm\n"
     ]
    }
   ],
   "source": [
    "import sys\n",
    "from swarms import Agent, llama3Hosted\n",
    "\n",
    "sys.path.insert(0, \"../\")\n",
    "from query import query_chroma"
   ]
  },
  {
   "cell_type": "code",
   "execution_count": 2,
   "metadata": {},
   "outputs": [],
   "source": [
    "mlx_model_id = \"mlx-community/Meta-Llama-3-8B-Instruct-8bit\"\n",
    "mlx_model = llama3Hosted(model=mlx_model_id, base_url=\"http://127.0.0.1:8080/v1/chat/completions\")"
   ]
  },
  {
   "cell_type": "code",
   "execution_count": 3,
   "metadata": {},
   "outputs": [
    {
     "name": "stderr",
     "output_type": "stream",
     "text": [
      "\u001b[32m2024-06-25T22:49:57.265888-0400\u001b[0m \u001b[1mTools provided make sure the functions have documentation ++ type hints, otherwise tool execution won't be reliable.\u001b[0m\n",
      "\u001b[32m2024-06-25T22:49:57.266374-0400\u001b[0m \u001b[1mTools granted, initializing tool protocol.\u001b[0m\n",
      "\u001b[32m2024-06-25T22:49:57.266509-0400\u001b[0m \u001b[1mNumber of tools: 1\u001b[0m\n",
      "\u001b[32m2024-06-25T22:49:57.266598-0400\u001b[0m \u001b[1mTool -> OpenAI Schema Process Starting Now.\u001b[0m\n",
      "\u001b[32m2024-06-25T22:49:57.268626-0400\u001b[0m \u001b[1mConversion process successful, the tool query_chroma has been integrated with the agent successfully.\u001b[0m\n",
      "\u001b[32m2024-06-25T22:50:22.080868-0400\u001b[0m \u001b[1mExtracted code: \u001b[0m\n",
      "\u001b[32m2024-06-25T22:50:22.082950-0400\u001b[0m \u001b[31m\u001b[1mError: Expecting value: line 1 column 1 (char 0)\u001b[0m\n",
      "\u001b[32m2024-06-25T22:50:22.083361-0400\u001b[0m \u001b[1mTool Call Output: None\u001b[0m\n",
      "\u001b[32m2024-06-25T22:50:22.083665-0400\u001b[0m \u001b[1mAutosaving agent state.\u001b[0m\n",
      "\u001b[32m2024-06-25T22:50:22.083908-0400\u001b[0m \u001b[1mSaving Agent swarm-worker-01 state to: swarm-worker-01_state.json\u001b[0m\n"
     ]
    }
   ],
   "source": [
    "agent = Agent(llm=mlx_model, max_loops=1, autosave=True, dashboard=True, verbose=True, tools=[query_chroma])"
   ]
  },
  {
   "cell_type": "code",
   "execution_count": 4,
   "metadata": {},
   "outputs": [
    {
     "name": "stdout",
     "output_type": "stream",
     "text": [
      "\u001b[33mInitializing Autonomous Agent swarm-worker-01...\u001b[0m\n",
      "\u001b[1m\u001b[36mAutonomous Agent Activated.\u001b[0m\n",
      "\u001b[32mAll systems operational. Executing task...\u001b[0m\n",
      "\u001b[36m\n",
      "Loop 1 of 1\u001b[0m\n",
      "\n",
      "\n",
      "\n",
      "\n",
      "I'm a helpful assistant, but it seems you didn't request a tool usage. You asked about your flight to Buffalo. I'm happy to help with that, but it's not a task that requires a specific tool. Would you like me to assist you with finding your flight information or maybe checking the weather in Buffalo?\n",
      "\n",
      "If you'd like, I can try to help you find your flight information, but it would be a non-tool-related task. Alternatively, if you're looking for a tool to assist with flight information, please let me know the specific requirements, and I'll do my best to assist you.\n",
      "\n",
      "Please provide more context or clarify your request, and I'll do my best to help.<|eot_id|>\n",
      "\u001b[31mError saving agent state: Object of type function is not JSON serializable\u001b[0m\n"
     ]
    },
    {
     "data": {
      "text/plain": [
       "\"I'm a helpful assistant, but it seems you didn't request a tool usage. You asked about your flight to Buffalo. I'm happy to help with that, but it's not a task that requires a specific tool. Would you like me to assist you with finding your flight information or maybe checking the weather in Buffalo?\\n\\nIf you'd like, I can try to help you find your flight information, but it would be a non-tool-related task. Alternatively, if you're looking for a tool to assist with flight information, please let me know the specific requirements, and I'll do my best to assist you.\\n\\nPlease provide more context or clarify your request, and I'll do my best to help.<|eot_id|>\""
      ]
     },
     "execution_count": 4,
     "metadata": {},
     "output_type": "execute_result"
    }
   ],
   "source": [
    "agent.run(\"When is my flight to Buffalo?\")"
   ]
  },
  {
   "cell_type": "code",
   "execution_count": null,
   "metadata": {},
   "outputs": [],
   "source": []
  }
 ],
 "metadata": {
  "kernelspec": {
   "display_name": "hindsight_exp",
   "language": "python",
   "name": "python3"
  },
  "language_info": {
   "codemirror_mode": {
    "name": "ipython",
    "version": 3
   },
   "file_extension": ".py",
   "mimetype": "text/x-python",
   "name": "python",
   "nbconvert_exporter": "python",
   "pygments_lexer": "ipython3",
   "version": "3.10.14"
  }
 },
 "nbformat": 4,
 "nbformat_minor": 2
}
