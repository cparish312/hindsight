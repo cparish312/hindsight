{
 "cells": [
  {
   "cell_type": "code",
   "execution_count": 90,
   "metadata": {},
   "outputs": [],
   "source": [
    "import sqlite3\n",
    "import tkinter as tk\n",
    "\n",
    "import pandas as pd\n",
    "\n",
    "import sys\n",
    "\n",
    "sys.path.insert(0, \"../\")\n",
    "import utils\n",
    "from db import HindsightDB\n",
    "from timeline_view import TimelineViewer"
   ]
  },
  {
   "cell_type": "code",
   "execution_count": 66,
   "metadata": {},
   "outputs": [],
   "source": [
    "db = HindsightDB()"
   ]
  },
  {
   "cell_type": "code",
   "execution_count": 76,
   "metadata": {},
   "outputs": [],
   "source": [
    "search_results = db.search(text=\"nvidia\", n_seconds=500)\n",
    "# search_results = db.search(text=\"Nvidia\")"
   ]
  },
  {
   "cell_type": "code",
   "execution_count": 86,
   "metadata": {},
   "outputs": [],
   "source": [
    "frames = db.get_frames()"
   ]
  },
  {
   "cell_type": "code",
   "execution_count": 107,
   "metadata": {},
   "outputs": [
    {
     "data": {
      "text/plain": [
       "Timestamp('2024-05-14 15:10:51.138999939-0400', tz='America/New_York')"
      ]
     },
     "execution_count": 107,
     "metadata": {},
     "output_type": "execute_result"
    }
   ],
   "source": [
    "min(frames['datetime_local'])"
   ]
  },
  {
   "cell_type": "code",
   "execution_count": 87,
   "metadata": {},
   "outputs": [],
   "source": [
    "frames = utils.add_datetimes(frames)"
   ]
  },
  {
   "cell_type": "code",
   "execution_count": 95,
   "metadata": {},
   "outputs": [],
   "source": [
    "test_data = pd.read_csv('./data/nvidia_stock_during.csv')"
   ]
  },
  {
   "cell_type": "code",
   "execution_count": 96,
   "metadata": {},
   "outputs": [],
   "source": [
    "test_data = utils.add_datetimes(test_data)"
   ]
  },
  {
   "cell_type": "code",
   "execution_count": 98,
   "metadata": {},
   "outputs": [
    {
     "data": {
      "text/html": [
       "<div>\n",
       "<style scoped>\n",
       "    .dataframe tbody tr th:only-of-type {\n",
       "        vertical-align: middle;\n",
       "    }\n",
       "\n",
       "    .dataframe tbody tr th {\n",
       "        vertical-align: top;\n",
       "    }\n",
       "\n",
       "    .dataframe thead th {\n",
       "        text-align: right;\n",
       "    }\n",
       "</style>\n",
       "<table border=\"1\" class=\"dataframe\">\n",
       "  <thead>\n",
       "    <tr style=\"text-align: right;\">\n",
       "      <th></th>\n",
       "      <th>Open</th>\n",
       "      <th>High</th>\n",
       "      <th>Low</th>\n",
       "      <th>Close</th>\n",
       "      <th>Adj Close</th>\n",
       "      <th>Volume</th>\n",
       "      <th>datetime</th>\n",
       "      <th>timestamp</th>\n",
       "      <th>datetime_utc</th>\n",
       "      <th>datetime_local</th>\n",
       "    </tr>\n",
       "  </thead>\n",
       "  <tbody>\n",
       "    <tr>\n",
       "      <th>105</th>\n",
       "      <td>124.091003</td>\n",
       "      <td>125.586998</td>\n",
       "      <td>118.400002</td>\n",
       "      <td>121.089005</td>\n",
       "      <td>121.089005</td>\n",
       "      <td>28192095</td>\n",
       "      <td>2024-06-06 09:30:00-04:00</td>\n",
       "      <td>1717680600000</td>\n",
       "      <td>2024-06-06 13:30:00+00:00</td>\n",
       "      <td>2024-06-06 09:30:00-04:00</td>\n",
       "    </tr>\n",
       "    <tr>\n",
       "      <th>191</th>\n",
       "      <td>124.095001</td>\n",
       "      <td>125.589996</td>\n",
       "      <td>123.910004</td>\n",
       "      <td>124.570000</td>\n",
       "      <td>124.570000</td>\n",
       "      <td>51742634</td>\n",
       "      <td>2024-06-25 11:30:00-04:00</td>\n",
       "      <td>1719329400000</td>\n",
       "      <td>2024-06-25 15:30:00+00:00</td>\n",
       "      <td>2024-06-25 11:30:00-04:00</td>\n",
       "    </tr>\n",
       "    <tr>\n",
       "      <th>203</th>\n",
       "      <td>124.000000</td>\n",
       "      <td>126.404999</td>\n",
       "      <td>123.750000</td>\n",
       "      <td>124.555000</td>\n",
       "      <td>124.555000</td>\n",
       "      <td>72053266</td>\n",
       "      <td>2024-06-27 09:30:00-04:00</td>\n",
       "      <td>1719495000000</td>\n",
       "      <td>2024-06-27 13:30:00+00:00</td>\n",
       "      <td>2024-06-27 09:30:00-04:00</td>\n",
       "    </tr>\n",
       "    <tr>\n",
       "      <th>214</th>\n",
       "      <td>124.089996</td>\n",
       "      <td>124.589996</td>\n",
       "      <td>123.770103</td>\n",
       "      <td>123.963997</td>\n",
       "      <td>123.963997</td>\n",
       "      <td>20565057</td>\n",
       "      <td>2024-06-28 13:30:00-04:00</td>\n",
       "      <td>1719595800000</td>\n",
       "      <td>2024-06-28 17:30:00+00:00</td>\n",
       "      <td>2024-06-28 13:30:00-04:00</td>\n",
       "    </tr>\n",
       "    <tr>\n",
       "      <th>219</th>\n",
       "      <td>124.095001</td>\n",
       "      <td>124.839996</td>\n",
       "      <td>122.820000</td>\n",
       "      <td>124.309998</td>\n",
       "      <td>124.309998</td>\n",
       "      <td>34102624</td>\n",
       "      <td>2024-07-01 11:30:00-04:00</td>\n",
       "      <td>1719847800000</td>\n",
       "      <td>2024-07-01 15:30:00+00:00</td>\n",
       "      <td>2024-07-01 11:30:00-04:00</td>\n",
       "    </tr>\n",
       "    <tr>\n",
       "      <th>222</th>\n",
       "      <td>124.010002</td>\n",
       "      <td>124.709999</td>\n",
       "      <td>123.800003</td>\n",
       "      <td>124.291100</td>\n",
       "      <td>124.291100</td>\n",
       "      <td>19875552</td>\n",
       "      <td>2024-07-01 14:30:00-04:00</td>\n",
       "      <td>1719858600000</td>\n",
       "      <td>2024-07-01 18:30:00+00:00</td>\n",
       "      <td>2024-07-01 14:30:00-04:00</td>\n",
       "    </tr>\n",
       "    <tr>\n",
       "      <th>320</th>\n",
       "      <td>124.029999</td>\n",
       "      <td>124.139999</td>\n",
       "      <td>123.110001</td>\n",
       "      <td>123.220901</td>\n",
       "      <td>123.220901</td>\n",
       "      <td>18814566</td>\n",
       "      <td>2024-07-23 11:30:00-04:00</td>\n",
       "      <td>1721748600000</td>\n",
       "      <td>2024-07-23 15:30:00+00:00</td>\n",
       "      <td>2024-07-23 11:30:00-04:00</td>\n",
       "    </tr>\n",
       "  </tbody>\n",
       "</table>\n",
       "</div>"
      ],
      "text/plain": [
       "           Open        High         Low       Close   Adj Close    Volume  \\\n",
       "105  124.091003  125.586998  118.400002  121.089005  121.089005  28192095   \n",
       "191  124.095001  125.589996  123.910004  124.570000  124.570000  51742634   \n",
       "203  124.000000  126.404999  123.750000  124.555000  124.555000  72053266   \n",
       "214  124.089996  124.589996  123.770103  123.963997  123.963997  20565057   \n",
       "219  124.095001  124.839996  122.820000  124.309998  124.309998  34102624   \n",
       "222  124.010002  124.709999  123.800003  124.291100  124.291100  19875552   \n",
       "320  124.029999  124.139999  123.110001  123.220901  123.220901  18814566   \n",
       "\n",
       "                      datetime      timestamp              datetime_utc  \\\n",
       "105  2024-06-06 09:30:00-04:00  1717680600000 2024-06-06 13:30:00+00:00   \n",
       "191  2024-06-25 11:30:00-04:00  1719329400000 2024-06-25 15:30:00+00:00   \n",
       "203  2024-06-27 09:30:00-04:00  1719495000000 2024-06-27 13:30:00+00:00   \n",
       "214  2024-06-28 13:30:00-04:00  1719595800000 2024-06-28 17:30:00+00:00   \n",
       "219  2024-07-01 11:30:00-04:00  1719847800000 2024-07-01 15:30:00+00:00   \n",
       "222  2024-07-01 14:30:00-04:00  1719858600000 2024-07-01 18:30:00+00:00   \n",
       "320  2024-07-23 11:30:00-04:00  1721748600000 2024-07-23 15:30:00+00:00   \n",
       "\n",
       "               datetime_local  \n",
       "105 2024-06-06 09:30:00-04:00  \n",
       "191 2024-06-25 11:30:00-04:00  \n",
       "203 2024-06-27 09:30:00-04:00  \n",
       "214 2024-06-28 13:30:00-04:00  \n",
       "219 2024-07-01 11:30:00-04:00  \n",
       "222 2024-07-01 14:30:00-04:00  \n",
       "320 2024-07-23 11:30:00-04:00  "
      ]
     },
     "execution_count": 98,
     "metadata": {},
     "output_type": "execute_result"
    }
   ],
   "source": [
    "test_data.loc[(test_data['Open'] >= 124) & (test_data['Open'] <= 124.1)]"
   ]
  },
  {
   "cell_type": "code",
   "execution_count": 99,
   "metadata": {},
   "outputs": [
    {
     "data": {
      "text/html": [
       "<div>\n",
       "<style scoped>\n",
       "    .dataframe tbody tr th:only-of-type {\n",
       "        vertical-align: middle;\n",
       "    }\n",
       "\n",
       "    .dataframe tbody tr th {\n",
       "        vertical-align: top;\n",
       "    }\n",
       "\n",
       "    .dataframe thead th {\n",
       "        text-align: right;\n",
       "    }\n",
       "</style>\n",
       "<table border=\"1\" class=\"dataframe\">\n",
       "  <thead>\n",
       "    <tr style=\"text-align: right;\">\n",
       "      <th></th>\n",
       "      <th>Open</th>\n",
       "      <th>High</th>\n",
       "      <th>Low</th>\n",
       "      <th>Close</th>\n",
       "      <th>Adj Close</th>\n",
       "      <th>Volume</th>\n",
       "      <th>datetime</th>\n",
       "      <th>timestamp</th>\n",
       "      <th>datetime_utc</th>\n",
       "      <th>datetime_local</th>\n",
       "    </tr>\n",
       "  </thead>\n",
       "  <tbody>\n",
       "    <tr>\n",
       "      <th>103</th>\n",
       "      <td>121.559998</td>\n",
       "      <td>122.358994</td>\n",
       "      <td>121.422997</td>\n",
       "      <td>121.826988</td>\n",
       "      <td>121.826988</td>\n",
       "      <td>6296734</td>\n",
       "      <td>2024-06-05 14:30:00-04:00</td>\n",
       "      <td>1717612200000</td>\n",
       "      <td>2024-06-05 18:30:00+00:00</td>\n",
       "      <td>2024-06-05 14:30:00-04:00</td>\n",
       "    </tr>\n",
       "    <tr>\n",
       "      <th>104</th>\n",
       "      <td>121.811279</td>\n",
       "      <td>122.449501</td>\n",
       "      <td>121.605003</td>\n",
       "      <td>122.439003</td>\n",
       "      <td>122.439003</td>\n",
       "      <td>4728006</td>\n",
       "      <td>2024-06-05 15:30:00-04:00</td>\n",
       "      <td>1717615800000</td>\n",
       "      <td>2024-06-05 19:30:00+00:00</td>\n",
       "      <td>2024-06-05 15:30:00-04:00</td>\n",
       "    </tr>\n",
       "    <tr>\n",
       "      <th>105</th>\n",
       "      <td>124.091003</td>\n",
       "      <td>125.586998</td>\n",
       "      <td>118.400002</td>\n",
       "      <td>121.089005</td>\n",
       "      <td>121.089005</td>\n",
       "      <td>28192095</td>\n",
       "      <td>2024-06-06 09:30:00-04:00</td>\n",
       "      <td>1717680600000</td>\n",
       "      <td>2024-06-06 13:30:00+00:00</td>\n",
       "      <td>2024-06-06 09:30:00-04:00</td>\n",
       "    </tr>\n",
       "    <tr>\n",
       "      <th>106</th>\n",
       "      <td>121.173805</td>\n",
       "      <td>122.382996</td>\n",
       "      <td>120.045998</td>\n",
       "      <td>120.462479</td>\n",
       "      <td>120.462479</td>\n",
       "      <td>8848457</td>\n",
       "      <td>2024-06-06 10:30:00-04:00</td>\n",
       "      <td>1717684200000</td>\n",
       "      <td>2024-06-06 14:30:00+00:00</td>\n",
       "      <td>2024-06-06 10:30:00-04:00</td>\n",
       "    </tr>\n",
       "    <tr>\n",
       "      <th>107</th>\n",
       "      <td>120.402000</td>\n",
       "      <td>120.869995</td>\n",
       "      <td>119.337524</td>\n",
       "      <td>119.727005</td>\n",
       "      <td>119.727005</td>\n",
       "      <td>5825782</td>\n",
       "      <td>2024-06-06 11:30:00-04:00</td>\n",
       "      <td>1717687800000</td>\n",
       "      <td>2024-06-06 15:30:00+00:00</td>\n",
       "      <td>2024-06-06 11:30:00-04:00</td>\n",
       "    </tr>\n",
       "  </tbody>\n",
       "</table>\n",
       "</div>"
      ],
      "text/plain": [
       "           Open        High         Low       Close   Adj Close    Volume  \\\n",
       "103  121.559998  122.358994  121.422997  121.826988  121.826988   6296734   \n",
       "104  121.811279  122.449501  121.605003  122.439003  122.439003   4728006   \n",
       "105  124.091003  125.586998  118.400002  121.089005  121.089005  28192095   \n",
       "106  121.173805  122.382996  120.045998  120.462479  120.462479   8848457   \n",
       "107  120.402000  120.869995  119.337524  119.727005  119.727005   5825782   \n",
       "\n",
       "                      datetime      timestamp              datetime_utc  \\\n",
       "103  2024-06-05 14:30:00-04:00  1717612200000 2024-06-05 18:30:00+00:00   \n",
       "104  2024-06-05 15:30:00-04:00  1717615800000 2024-06-05 19:30:00+00:00   \n",
       "105  2024-06-06 09:30:00-04:00  1717680600000 2024-06-06 13:30:00+00:00   \n",
       "106  2024-06-06 10:30:00-04:00  1717684200000 2024-06-06 14:30:00+00:00   \n",
       "107  2024-06-06 11:30:00-04:00  1717687800000 2024-06-06 15:30:00+00:00   \n",
       "\n",
       "               datetime_local  \n",
       "103 2024-06-05 14:30:00-04:00  \n",
       "104 2024-06-05 15:30:00-04:00  \n",
       "105 2024-06-06 09:30:00-04:00  \n",
       "106 2024-06-06 10:30:00-04:00  \n",
       "107 2024-06-06 11:30:00-04:00  "
      ]
     },
     "execution_count": 99,
     "metadata": {},
     "output_type": "execute_result"
    }
   ],
   "source": [
    "test_data.iloc[103:108]"
   ]
  },
  {
   "cell_type": "code",
   "execution_count": 106,
   "metadata": {},
   "outputs": [
    {
     "data": {
      "text/plain": [
       "139.85000610351562"
      ]
     },
     "execution_count": 106,
     "metadata": {},
     "output_type": "execute_result"
    }
   ],
   "source": [
    "max(test_data['Open'])"
   ]
  },
  {
   "cell_type": "code",
   "execution_count": 104,
   "metadata": {},
   "outputs": [
    {
     "data": {
      "text/html": [
       "<div>\n",
       "<style scoped>\n",
       "    .dataframe tbody tr th:only-of-type {\n",
       "        vertical-align: middle;\n",
       "    }\n",
       "\n",
       "    .dataframe tbody tr th {\n",
       "        vertical-align: top;\n",
       "    }\n",
       "\n",
       "    .dataframe thead th {\n",
       "        text-align: right;\n",
       "    }\n",
       "</style>\n",
       "<table border=\"1\" class=\"dataframe\">\n",
       "  <thead>\n",
       "    <tr style=\"text-align: right;\">\n",
       "      <th></th>\n",
       "      <th>Open</th>\n",
       "      <th>High</th>\n",
       "      <th>Low</th>\n",
       "      <th>Close</th>\n",
       "      <th>Adj Close</th>\n",
       "      <th>Volume</th>\n",
       "      <th>datetime</th>\n",
       "      <th>timestamp</th>\n",
       "      <th>datetime_utc</th>\n",
       "      <th>datetime_local</th>\n",
       "    </tr>\n",
       "  </thead>\n",
       "  <tbody>\n",
       "    <tr>\n",
       "      <th>168</th>\n",
       "      <td>139.850006</td>\n",
       "      <td>140.759995</td>\n",
       "      <td>136.130005</td>\n",
       "      <td>138.151596</td>\n",
       "      <td>138.151596</td>\n",
       "      <td>146856803</td>\n",
       "      <td>2024-06-20 09:30:00-04:00</td>\n",
       "      <td>1718890200000</td>\n",
       "      <td>2024-06-20 13:30:00+00:00</td>\n",
       "      <td>2024-06-20 09:30:00-04:00</td>\n",
       "    </tr>\n",
       "  </tbody>\n",
       "</table>\n",
       "</div>"
      ],
      "text/plain": [
       "           Open        High         Low       Close   Adj Close     Volume  \\\n",
       "168  139.850006  140.759995  136.130005  138.151596  138.151596  146856803   \n",
       "\n",
       "                      datetime      timestamp              datetime_utc  \\\n",
       "168  2024-06-20 09:30:00-04:00  1718890200000 2024-06-20 13:30:00+00:00   \n",
       "\n",
       "               datetime_local  \n",
       "168 2024-06-20 09:30:00-04:00  "
      ]
     },
     "execution_count": 104,
     "metadata": {},
     "output_type": "execute_result"
    }
   ],
   "source": [
    "test_data.loc[test_data['High'] == 140.75999450683594]"
   ]
  },
  {
   "cell_type": "code",
   "execution_count": 91,
   "metadata": {},
   "outputs": [],
   "source": [
    "stock_data = pd.read_csv('./data/nvidia_stock.csv')\n",
    "stock_data['timestamp'] = pd.to_datetime(stock_data['timestamp'])"
   ]
  },
  {
   "cell_type": "code",
   "execution_count": null,
   "metadata": {},
   "outputs": [],
   "source": [
    "current_dt = frames['datetime_local'].iloc[0]"
   ]
  },
  {
   "cell_type": "code",
   "execution_count": 94,
   "metadata": {},
   "outputs": [
    {
     "ename": "AttributeError",
     "evalue": "'Timestamp' object has no attribute 'minue'",
     "output_type": "error",
     "traceback": [
      "\u001b[0;31m---------------------------------------------------------------------------\u001b[0m",
      "\u001b[0;31mAttributeError\u001b[0m                            Traceback (most recent call last)",
      "Cell \u001b[0;32mIn[94], line 1\u001b[0m\n\u001b[0;32m----> 1\u001b[0m stock_data\u001b[38;5;241m.\u001b[39mloc[stock_data[\u001b[38;5;124m'\u001b[39m\u001b[38;5;124mtimestamp\u001b[39m\u001b[38;5;124m'\u001b[39m]\u001b[38;5;241m.\u001b[39mdt\u001b[38;5;241m.\u001b[39mminute \u001b[38;5;241m>\u001b[39m\u001b[38;5;241m=\u001b[39m \u001b[43mcurrent_dt\u001b[49m\u001b[38;5;241;43m.\u001b[39;49m\u001b[43mminue\u001b[49m()]\n",
      "\u001b[0;31mAttributeError\u001b[0m: 'Timestamp' object has no attribute 'minue'"
     ]
    }
   ],
   "source": [
    "stock_data.loc[stock_data['timestamp'].dt.minute >= current_dt.minue()]"
   ]
  },
  {
   "cell_type": "code",
   "execution_count": 88,
   "metadata": {},
   "outputs": [],
   "source": [
    "current_dt = frames['datetime_local'].iloc[0]"
   ]
  },
  {
   "cell_type": "code",
   "execution_count": 77,
   "metadata": {},
   "outputs": [],
   "source": [
    "nvidia_df = db.get_frames(frame_ids=set(search_results['id']))\n",
    "nvidia_df = nvidia_df.loc[nvidia_df['path'].str[:6] != \"./data\"]\n",
    "nvidia_df = utils.add_datetimes(nvidia_df).reset_index(drop=True)"
   ]
  },
  {
   "cell_type": "code",
   "execution_count": 78,
   "metadata": {},
   "outputs": [
    {
     "data": {
      "text/plain": [
       "Timestamp('2024-05-16 20:02:21.362999916-0400', tz='America/New_York')"
      ]
     },
     "execution_count": 78,
     "metadata": {},
     "output_type": "execute_result"
    }
   ],
   "source": [
    "min(nvidia_df['datetime_local'])"
   ]
  },
  {
   "cell_type": "code",
   "execution_count": 49,
   "metadata": {},
   "outputs": [
    {
     "data": {
      "text/plain": [
       "1715904133164"
      ]
     },
     "execution_count": 49,
     "metadata": {},
     "output_type": "execute_result"
    }
   ],
   "source": [
    "min(nvidia_df['timestamp'])"
   ]
  },
  {
   "cell_type": "code",
   "execution_count": 47,
   "metadata": {},
   "outputs": [
    {
     "data": {
      "text/plain": [
       "1716215914835"
      ]
     },
     "execution_count": 47,
     "metadata": {},
     "output_type": "execute_result"
    }
   ],
   "source": [
    "min(nvidia_df['timestamp'])"
   ]
  }
 ],
 "metadata": {
  "kernelspec": {
   "display_name": "hindsight_exp",
   "language": "python",
   "name": "python3"
  },
  "language_info": {
   "codemirror_mode": {
    "name": "ipython",
    "version": 3
   },
   "file_extension": ".py",
   "mimetype": "text/x-python",
   "name": "python",
   "nbconvert_exporter": "python",
   "pygments_lexer": "ipython3",
   "version": "3.9.18"
  }
 },
 "nbformat": 4,
 "nbformat_minor": 2
}
